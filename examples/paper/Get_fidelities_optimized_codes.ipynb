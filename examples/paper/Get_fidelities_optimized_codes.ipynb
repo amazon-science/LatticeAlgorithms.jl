{
 "cells": [
  {
   "cell_type": "markdown",
   "metadata": {},
   "source": [
    "# Optimize general GKP codes for distance, and get the fidelity"
   ]
  },
  {
   "cell_type": "code",
   "execution_count": 4,
   "metadata": {},
   "outputs": [],
   "source": [
    "using Distributed\n",
    "if nprocs()==1\n",
    "    addprocs(length(Sys.cpu_info()); exeflags=`--project=$(Base.active_project())`)\n",
    "end    \n",
    "println(\"Number of processes = $(nprocs())\")"
   ]
  },
  {
   "cell_type": "code",
   "execution_count": 5,
   "metadata": {},
   "outputs": [],
   "source": [
    "@everywhere begin\n",
    "    using LatticeAlgorithms\n",
    "    using LinearAlgebra\n",
    "    using BlockDiagonals\n",
    "    using Optim\n",
    "        \n",
    "    function f(S_param)\n",
    "        S = S_func([S_param[1:N]..., [0 for _ in 1:N^2]..., S_param[N+1:N+N^2]...])\n",
    "        M = M0 * transpose(S)\n",
    "        d = distance(M)\n",
    "        return -d # minus because we minize the objective function \n",
    "    end\n",
    "    \n",
    "end\n",
    "\n",
    "using JLD2 \n",
    "\n",
    "function get_minimum_minimizer_list(S_param_0_list)\n",
    "    return pmap(S_param_0_list) do S_param_0\n",
    "        solver = NelderMead()  # SimulatedAnnealing() # NelderMead() \n",
    "        res = optimize(f, S_param_0, solver, Optim.Options(iterations=2000, show_trace=false, show_every=200))\n",
    "        minimum = Optim.minimum(res)\n",
    "        minimizer = Optim.minimizer(res)\n",
    "\n",
    "        [minimum, minimizer]\n",
    "\n",
    "    end;\n",
    "    \n",
    "end\n",
    "\n",
    "num_trial = 1000;"
   ]
  },
  {
   "cell_type": "markdown",
   "metadata": {},
   "source": [
    "# N=2"
   ]
  },
  {
   "cell_type": "code",
   "execution_count": 3,
   "metadata": {},
   "outputs": [
    {
     "name": "stdout",
     "output_type": "stream",
     "text": [
      " 59.237241 seconds (9.51 M allocations: 533.615 MiB, 0.35% gc time, 5.50% compilation time)\n"
     ]
    }
   ],
   "source": [
    "@everywhere begin\n",
    "    N = 2\n",
    "    code = \"opt_$N\"; \n",
    "    M0 = BlockDiagonal([[sqrt(2) 0; 0 sqrt(2)], [[1 0; 0 1] for _ in 2:N]...]);\n",
    "    S_func = general_symplectic(N, method = \"Bloch_Messiah\") \n",
    "end\n",
    "\n",
    "# num_trial = 1000;\n",
    "r_max = 3;\n",
    "θ_max = 2π; \n",
    "S_param_0_list = [[((1 / r_max) .+ (r_max - (1 / r_max)) * rand(N))..., (θ_max * rand(N^2))...]  for _ in 1:num_trial]; \n",
    "\n",
    "minimum_minimizer_list = @time get_minimum_minimizer_list(S_param_0_list) ; "
   ]
  },
  {
   "cell_type": "code",
   "execution_count": 4,
   "metadata": {},
   "outputs": [
    {
     "data": {
      "text/plain": [
       "-2.5066282128414965"
      ]
     },
     "execution_count": 4,
     "metadata": {},
     "output_type": "execute_result"
    }
   ],
   "source": [
    "optimized_distance = minimum([minimum_minimizer_list[i][1] for i in 1:num_trial]) "
   ]
  },
  {
   "cell_type": "code",
   "execution_count": 5,
   "metadata": {},
   "outputs": [
    {
     "data": {
      "text/plain": [
       "6-element Vector{Float64}:\n",
       " 0.6584789738546364\n",
       " 0.6584789379697481\n",
       " 0.9995127023929551\n",
       " 7.428697686358381\n",
       " 7.067655800660195\n",
       " 3.5668765893978813"
      ]
     },
     "execution_count": 5,
     "metadata": {},
     "output_type": "execute_result"
    }
   ],
   "source": [
    "minimizer = minimum_minimizer_list[argmin([minimum_minimizer_list[i][1] for i in 1:num_trial])][2]  "
   ]
  },
  {
   "cell_type": "code",
   "execution_count": 6,
   "metadata": {},
   "outputs": [
    {
     "data": {
      "text/plain": [
       "4×4 Matrix{Float64}:\n",
       "  1.30882    0.108394   1.42093   -0.506162\n",
       " -0.404532   0.350698   1.88902    0.380736\n",
       "  1.33574   -0.269221   0.286048   0.247981\n",
       "  1.00475    0.357911  -0.925478   0.0766462"
      ]
     },
     "execution_count": 6,
     "metadata": {},
     "output_type": "execute_result"
    }
   ],
   "source": [
    "S_opt = S_func([minimizer[1:N]..., [0 for _ in 1:N^2]..., minimizer[N+1:N+N^2]...])\n",
    "M_opt = M0 * transpose(S_opt)"
   ]
  },
  {
   "cell_type": "code",
   "execution_count": null,
   "metadata": {},
   "outputs": [],
   "source": [
    "fn = \"data/optimized_codes/distance_$(code)_$(num_trial).jld2\" ; "
   ]
  },
  {
   "cell_type": "code",
   "execution_count": 7,
   "metadata": {},
   "outputs": [],
   "source": [
    "# # Uncomment this cell if you want to overwrite the data\n",
    "\n",
    "# jldsave(fn; \n",
    "#     optimized_distance = optimized_distance,\n",
    "#     minimizer = minimizer,\n",
    "#     S_opt=S_opt,\n",
    "#     M_opt=M_opt,    \n",
    "#     num_trial=num_trial)"
   ]
  },
  {
   "cell_type": "code",
   "execution_count": 8,
   "metadata": {},
   "outputs": [
    {
     "data": {
      "text/plain": [
       "Dict{String, Any} with 5 entries:\n",
       "  \"M_opt\"              => [1.30882 0.108394 1.42093 -0.506162; -0.404532 0.3506…\n",
       "  \"S_opt\"              => [0.925478 -0.286048 1.33574 1.00475; 0.0766462 0.2479…\n",
       "  \"minimizer\"          => [0.658479, 0.658479, 0.999513, 7.4287, 7.06766, 3.566…\n",
       "  \"optimized_distance\" => -2.50663\n",
       "  \"num_trial\"          => 1000"
      ]
     },
     "execution_count": 8,
     "metadata": {},
     "output_type": "execute_result"
    }
   ],
   "source": [
    "load(fn)"
   ]
  },
  {
   "cell_type": "code",
   "execution_count": 9,
   "metadata": {},
   "outputs": [
    {
     "data": {
      "text/plain": [
       "2.5066282746310002"
      ]
     },
     "execution_count": 9,
     "metadata": {},
     "output_type": "execute_result"
    }
   ],
   "source": [
    "## Known best result is from D4\n",
    "best_result = √(2π) * (N/2)^(1/4)"
   ]
  },
  {
   "cell_type": "markdown",
   "metadata": {},
   "source": [
    "# N=3"
   ]
  },
  {
   "cell_type": "code",
   "execution_count": 10,
   "metadata": {},
   "outputs": [
    {
     "name": "stdout",
     "output_type": "stream",
     "text": [
      " 90.144094 seconds (54.43 k allocations: 2.527 MiB)\n"
     ]
    }
   ],
   "source": [
    "@everywhere begin\n",
    "    N = 3\n",
    "    code = \"opt_$N\"; \n",
    "    M0 = BlockDiagonal([[sqrt(2) 0; 0 sqrt(2)], [[1 0; 0 1] for _ in 2:N]...]);\n",
    "    S_func = general_symplectic(N, method = \"Bloch_Messiah\") \n",
    "end\n",
    "\n",
    "# num_trial = 1000;\n",
    "r_max = 3;\n",
    "θ_max = 2π; \n",
    "S_param_0_list = [[((1 / r_max) .+ (r_max - (1 / r_max)) * rand(N))..., (θ_max * rand(N^2))...]  for _ in 1:num_trial]; \n",
    "\n",
    "minimum_minimizer_list = @time get_minimum_minimizer_list(S_param_0_list) ; "
   ]
  },
  {
   "cell_type": "code",
   "execution_count": 11,
   "metadata": {},
   "outputs": [
    {
     "data": {
      "text/plain": [
       "-2.6710507476626355"
      ]
     },
     "execution_count": 11,
     "metadata": {},
     "output_type": "execute_result"
    }
   ],
   "source": [
    "optimized_distance = minimum([minimum_minimizer_list[i][1] for i in 1:num_trial])  # -2.6424990160263677"
   ]
  },
  {
   "cell_type": "code",
   "execution_count": 12,
   "metadata": {},
   "outputs": [
    {
     "data": {
      "text/plain": [
       "12-element Vector{Float64}:\n",
       " 0.7310554863685963\n",
       " 0.746121645685197\n",
       " 0.7491080990533483\n",
       " 2.082230804447372\n",
       " 3.21756673624585\n",
       " 4.0836580349545715\n",
       " 6.205173281615245\n",
       " 2.701734241492325\n",
       " 6.102598173629776\n",
       " 6.413886025526753\n",
       " 5.407506479464776\n",
       " 3.573378437152211"
      ]
     },
     "execution_count": 12,
     "metadata": {},
     "output_type": "execute_result"
    }
   ],
   "source": [
    "minimizer = minimum_minimizer_list[argmin([minimum_minimizer_list[i][1] for i in 1:num_trial])][2]  "
   ]
  },
  {
   "cell_type": "code",
   "execution_count": 13,
   "metadata": {},
   "outputs": [
    {
     "data": {
      "text/plain": [
       "6×6 Matrix{Float64}:\n",
       " -1.97001    0.244552    0.666809  -0.155204   0.0430447   0.376757\n",
       " -1.05526   -0.456543    0.690203   0.149944  -1.6855      0.00962171\n",
       " -0.444733  -0.141088   -1.42223    0.185018   0.786906    0.165664\n",
       "  0.608804  -0.103065   -0.822784  -0.319813  -0.741133    0.175896\n",
       " -0.369226   0.244496   -1.02599    0.108822  -1.28139    -0.109934\n",
       " -1.05501   -0.0855669  -0.483938  -0.230712   0.491812   -0.286426"
      ]
     },
     "execution_count": 13,
     "metadata": {},
     "output_type": "execute_result"
    }
   ],
   "source": [
    "S_opt = S_func([minimizer[1:N]..., [0 for _ in 1:N^2]..., minimizer[N+1:N+N^2]...])\n",
    "M_opt = M0 * transpose(S_opt)"
   ]
  },
  {
   "cell_type": "code",
   "execution_count": null,
   "metadata": {},
   "outputs": [],
   "source": [
    "fn = \"data/optimized_codes/distance_$(code)_$(num_trial).jld2\" ; "
   ]
  },
  {
   "cell_type": "code",
   "execution_count": null,
   "metadata": {},
   "outputs": [],
   "source": [
    "# # Uncomment this cell if you want to overwrite the data\n",
    "\n",
    "# jldsave(fn; \n",
    "#     optimized_distance = optimized_distance,\n",
    "#     minimizer = minimizer,\n",
    "#     S_opt=S_opt,\n",
    "#     M_opt=M_opt,    \n",
    "#     num_trial=num_trial)"
   ]
  },
  {
   "cell_type": "code",
   "execution_count": 15,
   "metadata": {},
   "outputs": [
    {
     "data": {
      "text/plain": [
       "Dict{String, Any} with 5 entries:\n",
       "  \"M_opt\"              => [-1.97001 0.244552 … 0.0430447 0.376757; -1.05526 -0.…\n",
       "  \"S_opt\"              => [-1.39301 -0.746178 … -0.369226 -1.05501; 0.172924 -0…\n",
       "  \"minimizer\"          => [0.731055, 0.746122, 0.749108, 2.08223, 3.21757, 4.08…\n",
       "  \"optimized_distance\" => -2.67105\n",
       "  \"num_trial\"          => 1000"
      ]
     },
     "execution_count": 15,
     "metadata": {},
     "output_type": "execute_result"
    }
   ],
   "source": [
    "load(fn)"
   ]
  },
  {
   "cell_type": "code",
   "execution_count": 16,
   "metadata": {},
   "outputs": [],
   "source": [
    "## No known best result"
   ]
  },
  {
   "cell_type": "markdown",
   "metadata": {},
   "source": [
    "# N=4"
   ]
  },
  {
   "cell_type": "code",
   "execution_count": 17,
   "metadata": {},
   "outputs": [
    {
     "name": "stdout",
     "output_type": "stream",
     "text": [
      "216.551347 seconds (54.44 k allocations: 2.663 MiB)\n"
     ]
    }
   ],
   "source": [
    "@everywhere begin\n",
    "    N = 4\n",
    "    code = \"opt_$N\"; \n",
    "    M0 = BlockDiagonal([[sqrt(2) 0; 0 sqrt(2)], [[1 0; 0 1] for _ in 2:N]...]);\n",
    "    S_func = general_symplectic(N, method = \"Bloch_Messiah\") \n",
    "end\n",
    "\n",
    "# num_trial = 1000;\n",
    "r_max = 3;\n",
    "θ_max = 2π; \n",
    "S_param_0_list = [[((1 / r_max) .+ (r_max - (1 / r_max)) * rand(N))..., (θ_max * rand(N^2))...]  for _ in 1:num_trial]; \n",
    "\n",
    "minimum_minimizer_list = @time get_minimum_minimizer_list(S_param_0_list) ; "
   ]
  },
  {
   "cell_type": "code",
   "execution_count": 18,
   "metadata": {},
   "outputs": [
    {
     "data": {
      "text/plain": [
       "-2.82515178218537"
      ]
     },
     "execution_count": 18,
     "metadata": {},
     "output_type": "execute_result"
    }
   ],
   "source": [
    "optimized_distance = minimum([minimum_minimizer_list[i][1] for i in 1:num_trial]) \n",
    "# 2.839 with 10000 samples\n",
    "# 2.859 with 30000 samples"
   ]
  },
  {
   "cell_type": "code",
   "execution_count": 19,
   "metadata": {},
   "outputs": [
    {
     "data": {
      "text/plain": [
       "20-element Vector{Float64}:\n",
       " 1.163244254494251\n",
       " 0.5512834150128066\n",
       " 0.7650424084421334\n",
       " 2.2591036512069596\n",
       " 2.793599221748231\n",
       " 4.191469824570051\n",
       " 5.721511242340718\n",
       " 3.1481040594650427\n",
       " 2.102606185540268\n",
       " 1.6520370042413364\n",
       " 5.066654830211398\n",
       " 5.635226589899807\n",
       " 1.6252016634806814\n",
       " 0.023143446040152525\n",
       " 4.574166411302724\n",
       " 0.42050477056627633\n",
       " 5.044247947106983\n",
       " 0.6074353028322423\n",
       " 4.9926646543349\n",
       " 1.3234035490088096"
      ]
     },
     "execution_count": 19,
     "metadata": {},
     "output_type": "execute_result"
    }
   ],
   "source": [
    "minimizer = minimum_minimizer_list[argmin([minimum_minimizer_list[i][1] for i in 1:num_trial])][2]  "
   ]
  },
  {
   "cell_type": "code",
   "execution_count": 20,
   "metadata": {},
   "outputs": [
    {
     "data": {
      "text/plain": [
       "8×8 Matrix{Float64}:\n",
       "  0.638569   0.361384    0.690668   …  -0.129361    2.87509  -0.0173488\n",
       " -3.70126    0.0623486   0.0351058     -0.241233    1.59038   0.0313631\n",
       " -0.404581   0.0909072   0.251404       0.268085    2.41837  -0.026287\n",
       " -0.931063  -0.0395025   0.223714       0.295281    2.40976   0.026381\n",
       "  0.595625   0.081159    0.352065       0.100987   -5.73443   0.0460545\n",
       " -0.831224   0.0581556  -0.819017   …   0.0855224  -4.22187  -0.0625544\n",
       "  0.88217    0.0564165  -1.22697        0.0181362   4.17953   0.0276862\n",
       " -0.577813   0.0861333  -0.599435       0.0463874  -2.53802   0.0455926"
      ]
     },
     "execution_count": 20,
     "metadata": {},
     "output_type": "execute_result"
    }
   ],
   "source": [
    "S_opt = S_func([minimizer[1:N]..., [0 for _ in 1:N^2]..., minimizer[N+1:N+N^2]...])\n",
    "M_opt = M0 * transpose(S_opt)"
   ]
  },
  {
   "cell_type": "code",
   "execution_count": 21,
   "metadata": {},
   "outputs": [],
   "source": [
    "fn = \"data/optimized_codes/distance_$(code)_$(num_trial).jld2\" ; "
   ]
  },
  {
   "cell_type": "code",
   "execution_count": null,
   "metadata": {},
   "outputs": [],
   "source": [
    "# # Uncomment this cell if you want to overwrite the data\n",
    "\n",
    "# jldsave(fn; \n",
    "#     optimized_distance = optimized_distance,\n",
    "#     minimizer = minimizer,\n",
    "#     S_opt=S_opt,\n",
    "#     M_opt=M_opt,    \n",
    "#     num_trial=num_trial)"
   ]
  },
  {
   "cell_type": "code",
   "execution_count": 22,
   "metadata": {},
   "outputs": [
    {
     "data": {
      "text/plain": [
       "Dict{String, Any} with 5 entries:\n",
       "  \"M_opt\"              => [0.638569 0.361384 … 2.87509 -0.0173488; -3.70126 0.0…\n",
       "  \"S_opt\"              => [0.451537 -2.61719 … 0.88217 -0.577813; 0.255537 0.04…\n",
       "  \"minimizer\"          => [1.16324, 0.551283, 0.765042, 2.2591, 2.7936, 4.19147…\n",
       "  \"optimized_distance\" => -2.82515\n",
       "  \"num_trial\"          => 1000"
      ]
     },
     "execution_count": 22,
     "metadata": {},
     "output_type": "execute_result"
    }
   ],
   "source": [
    "load(fn)"
   ]
  },
  {
   "cell_type": "code",
   "execution_count": 23,
   "metadata": {},
   "outputs": [
    {
     "data": {
      "text/plain": [
       "2.98090017885818"
      ]
     },
     "execution_count": 23,
     "metadata": {},
     "output_type": "execute_result"
    }
   ],
   "source": [
    "## known best result from tess_4N\n",
    "best_result = √(2π) * (N/2)^(1/4)"
   ]
  },
  {
   "cell_type": "markdown",
   "metadata": {},
   "source": [
    "# N=5"
   ]
  },
  {
   "cell_type": "code",
   "execution_count": null,
   "metadata": {},
   "outputs": [],
   "source": [
    "@everywhere begin\n",
    "    N = 5\n",
    "    code = \"opt_$N\"; \n",
    "    M0 = BlockDiagonal([[sqrt(2) 0; 0 sqrt(2)], [[1 0; 0 1] for _ in 2:N]...]);\n",
    "    S_func = general_symplectic(N, method = \"Bloch_Messiah\") \n",
    "end\n",
    "\n",
    "# num_trial = 1000;\n",
    "r_max = 3;\n",
    "θ_max = 2π; \n",
    "S_param_0_list = [[((1 / r_max) .+ (r_max - (1 / r_max)) * rand(N))..., (θ_max * rand(N^2))...]  for _ in 1:num_trial]; \n",
    "\n",
    "minimum_minimizer_list = @time get_minimum_minimizer_list(S_param_0_list) ; "
   ]
  },
  {
   "cell_type": "code",
   "execution_count": null,
   "metadata": {},
   "outputs": [],
   "source": [
    "optimized_distance = minimum([minimum_minimizer_list[i][1] for i in 1:num_trial]) "
   ]
  },
  {
   "cell_type": "code",
   "execution_count": null,
   "metadata": {},
   "outputs": [],
   "source": [
    "minimizer = minimum_minimizer_list[argmin([minimum_minimizer_list[i][1] for i in 1:num_trial])][2]  "
   ]
  },
  {
   "cell_type": "code",
   "execution_count": null,
   "metadata": {},
   "outputs": [],
   "source": [
    "S_opt = S_func([minimizer[1:N]..., [0 for _ in 1:N^2]..., minimizer[N+1:N+N^2]...])\n",
    "M_opt = M0 * transpose(S_opt)"
   ]
  },
  {
   "cell_type": "code",
   "execution_count": null,
   "metadata": {},
   "outputs": [],
   "source": [
    "fn = \"data/optimized_codes/distance_$(code)_$(num_trial).jld2\" ; "
   ]
  },
  {
   "cell_type": "code",
   "execution_count": null,
   "metadata": {},
   "outputs": [],
   "source": [
    "# # Uncomment this cell if you want to overwrite the data\n",
    "\n",
    "# jldsave(fn; \n",
    "#     optimized_distance = optimized_distance,\n",
    "#     minimizer = minimizer,\n",
    "#     S_opt=S_opt,\n",
    "#     M_opt=M_opt,    \n",
    "#     num_trial=num_trial)"
   ]
  },
  {
   "cell_type": "code",
   "execution_count": null,
   "metadata": {},
   "outputs": [],
   "source": [
    "load(fn)"
   ]
  },
  {
   "cell_type": "code",
   "execution_count": null,
   "metadata": {},
   "outputs": [],
   "source": [
    "## known best result from [5,1,3]"
   ]
  },
  {
   "cell_type": "markdown",
   "metadata": {},
   "source": [
    "# N=6"
   ]
  },
  {
   "cell_type": "code",
   "execution_count": null,
   "metadata": {},
   "outputs": [],
   "source": [
    "@everywhere begin\n",
    "    N = 6\n",
    "    code = \"opt_$N\"; \n",
    "    M0 = BlockDiagonal([[sqrt(2) 0; 0 sqrt(2)], [[1 0; 0 1] for _ in 2:N]...]);\n",
    "    S_func = general_symplectic(N, method = \"Bloch_Messiah\") \n",
    "end\n",
    "\n",
    "# num_trial = 1000;\n",
    "r_max = 3;\n",
    "θ_max = 2π; \n",
    "S_param_0_list = [[((1 / r_max) .+ (r_max - (1 / r_max)) * rand(N))..., (θ_max * rand(N^2))...]  for _ in 1:num_trial]; \n",
    "\n",
    "minimum_minimizer_list = @time get_minimum_minimizer_list(S_param_0_list) ; "
   ]
  },
  {
   "cell_type": "code",
   "execution_count": null,
   "metadata": {},
   "outputs": [],
   "source": [
    "optimized_distance = minimum([minimum_minimizer_list[i][1] for i in 1:num_trial]) "
   ]
  },
  {
   "cell_type": "code",
   "execution_count": null,
   "metadata": {},
   "outputs": [],
   "source": [
    "minimizer = minimum_minimizer_list[argmin([minimum_minimizer_list[i][1] for i in 1:num_trial])][2]  "
   ]
  },
  {
   "cell_type": "code",
   "execution_count": null,
   "metadata": {},
   "outputs": [],
   "source": [
    "S_opt = S_func([minimizer[1:N]..., [0 for _ in 1:N^2]..., minimizer[N+1:N+N^2]...])\n",
    "M_opt = M0 * transpose(S_opt)"
   ]
  },
  {
   "cell_type": "code",
   "execution_count": null,
   "metadata": {},
   "outputs": [],
   "source": [
    "fn = \"data/optimized_codes/distance_$(code)_$(num_trial).jld2\" ; "
   ]
  },
  {
   "cell_type": "code",
   "execution_count": null,
   "metadata": {},
   "outputs": [],
   "source": [
    "# # Uncomment this cell if you want to overwrite the data\n",
    "\n",
    "# jldsave(fn; \n",
    "#     optimized_distance = optimized_distance,\n",
    "#     minimizer = minimizer,\n",
    "#     S_opt=S_opt,\n",
    "#     M_opt=M_opt,    \n",
    "#     num_trial=num_trial)"
   ]
  },
  {
   "cell_type": "code",
   "execution_count": null,
   "metadata": {},
   "outputs": [],
   "source": [
    "load(fn)"
   ]
  },
  {
   "cell_type": "code",
   "execution_count": null,
   "metadata": {},
   "outputs": [],
   "source": [
    "## known best result from tess_4N\n",
    "best_result = √(2π) * (N/2)^(1/4)"
   ]
  },
  {
   "cell_type": "markdown",
   "metadata": {},
   "source": [
    "# N=7"
   ]
  },
  {
   "cell_type": "code",
   "execution_count": null,
   "metadata": {},
   "outputs": [],
   "source": [
    "@everywhere begin\n",
    "    N = 7\n",
    "    code = \"opt_$N\"; \n",
    "    M0 = BlockDiagonal([[sqrt(2) 0; 0 sqrt(2)], [[1 0; 0 1] for _ in 2:N]...]);\n",
    "    S_func = general_symplectic(N, method = \"Bloch_Messiah\") \n",
    "end\n",
    "\n",
    "# num_trial = 1000;\n",
    "r_max = 3;\n",
    "θ_max = 2π; \n",
    "S_param_0_list = [[((1 / r_max) .+ (r_max - (1 / r_max)) * rand(N))..., (θ_max * rand(N^2))...]  for _ in 1:num_trial]; \n",
    "\n",
    "minimum_minimizer_list = @time get_minimum_minimizer_list(S_param_0_list) ; "
   ]
  },
  {
   "cell_type": "code",
   "execution_count": null,
   "metadata": {},
   "outputs": [],
   "source": [
    "optimized_distance = minimum([minimum_minimizer_list[i][1] for i in 1:num_trial]) "
   ]
  },
  {
   "cell_type": "code",
   "execution_count": null,
   "metadata": {},
   "outputs": [],
   "source": [
    "minimizer = minimum_minimizer_list[argmin([minimum_minimizer_list[i][1] for i in 1:num_trial])][2]  "
   ]
  },
  {
   "cell_type": "code",
   "execution_count": null,
   "metadata": {},
   "outputs": [],
   "source": [
    "S_opt = S_func([minimizer[1:N]..., [0 for _ in 1:N^2]..., minimizer[N+1:N+N^2]...])\n",
    "M_opt = M0 * transpose(S_opt)"
   ]
  },
  {
   "cell_type": "code",
   "execution_count": null,
   "metadata": {},
   "outputs": [],
   "source": [
    "fn = \"data/optimized_codes/distance_$(code)_$(num_trial).jld2\" ; "
   ]
  },
  {
   "cell_type": "code",
   "execution_count": null,
   "metadata": {},
   "outputs": [],
   "source": [
    "# # Uncomment this cell if you want to overwrite the data\n",
    "\n",
    "# jldsave(fn; \n",
    "#     optimized_distance = optimized_distance,\n",
    "#     minimizer = minimizer,\n",
    "#     S_opt=S_opt,\n",
    "#     M_opt=M_opt,    \n",
    "#     num_trial=num_trial)"
   ]
  },
  {
   "cell_type": "code",
   "execution_count": null,
   "metadata": {},
   "outputs": [],
   "source": [
    "load(fn)"
   ]
  },
  {
   "cell_type": "code",
   "execution_count": null,
   "metadata": {},
   "outputs": [],
   "source": [
    "## known best result from [7,1,3]"
   ]
  },
  {
   "cell_type": "markdown",
   "metadata": {},
   "source": [
    "# N=8"
   ]
  },
  {
   "cell_type": "code",
   "execution_count": null,
   "metadata": {},
   "outputs": [],
   "source": [
    "@everywhere begin\n",
    "    N = 8\n",
    "    code = \"opt_$N\"; \n",
    "    M0 = BlockDiagonal([[sqrt(2) 0; 0 sqrt(2)], [[1 0; 0 1] for _ in 2:N]...]);\n",
    "    S_func = general_symplectic(N, method = \"Bloch_Messiah\") \n",
    "end\n",
    "\n",
    "# num_trial = 1000;\n",
    "r_max = 3;\n",
    "θ_max = 2π; \n",
    "S_param_0_list = [[((1 / r_max) .+ (r_max - (1 / r_max)) * rand(N))..., (θ_max * rand(N^2))...]  for _ in 1:num_trial]; \n",
    "\n",
    "minimum_minimizer_list = @time get_minimum_minimizer_list(S_param_0_list) ; "
   ]
  },
  {
   "cell_type": "code",
   "execution_count": null,
   "metadata": {},
   "outputs": [],
   "source": [
    "optimized_distance = minimum([minimum_minimizer_list[i][1] for i in 1:num_trial]) "
   ]
  },
  {
   "cell_type": "code",
   "execution_count": null,
   "metadata": {},
   "outputs": [],
   "source": [
    "minimizer = minimum_minimizer_list[argmin([minimum_minimizer_list[i][1] for i in 1:num_trial])][2]  "
   ]
  },
  {
   "cell_type": "code",
   "execution_count": null,
   "metadata": {},
   "outputs": [],
   "source": [
    "S_opt = S_func([minimizer[1:N]..., [0 for _ in 1:N^2]..., minimizer[N+1:N+N^2]...])\n",
    "M_opt = M0 * transpose(S_opt)"
   ]
  },
  {
   "cell_type": "code",
   "execution_count": null,
   "metadata": {},
   "outputs": [],
   "source": [
    "fn = \"data/optimized_codes/distance_$(code)_$(num_trial).jld2\" ; "
   ]
  },
  {
   "cell_type": "code",
   "execution_count": null,
   "metadata": {},
   "outputs": [],
   "source": [
    "# # Uncomment this cell if you want to overwrite the data\n",
    "\n",
    "# jldsave(fn; \n",
    "#     optimized_distance = optimized_distance,\n",
    "#     minimizer = minimizer,\n",
    "#     S_opt=S_opt,\n",
    "#     M_opt=M_opt,    \n",
    "#     num_trial=num_trial)"
   ]
  },
  {
   "cell_type": "code",
   "execution_count": null,
   "metadata": {},
   "outputs": [],
   "source": [
    "load(fn)"
   ]
  },
  {
   "cell_type": "code",
   "execution_count": null,
   "metadata": {},
   "outputs": [],
   "source": [
    "## known best result from tess_4N\n",
    "best_result = √(2π) * (N/2)^(1/4)"
   ]
  },
  {
   "cell_type": "markdown",
   "metadata": {},
   "source": [
    "# N=9"
   ]
  },
  {
   "cell_type": "code",
   "execution_count": null,
   "metadata": {},
   "outputs": [],
   "source": [
    "@everywhere begin\n",
    "    N = 9\n",
    "    code = \"opt_$N\"; \n",
    "    M0 = BlockDiagonal([[sqrt(2) 0; 0 sqrt(2)], [[1 0; 0 1] for _ in 2:N]...]);\n",
    "    S_func = general_symplectic(N, method = \"Bloch_Messiah\") \n",
    "end\n",
    "\n",
    "# num_trial = 1000;\n",
    "r_max = 3;\n",
    "θ_max = 2π; \n",
    "S_param_0_list = [[((1 / r_max) .+ (r_max - (1 / r_max)) * rand(N))..., (θ_max * rand(N^2))...]  for _ in 1:num_trial]; \n",
    "\n",
    "minimum_minimizer_list = @time get_minimum_minimizer_list(S_param_0_list) ; "
   ]
  },
  {
   "cell_type": "code",
   "execution_count": null,
   "metadata": {},
   "outputs": [],
   "source": [
    "optimized_distance = minimum([minimum_minimizer_list[i][1] for i in 1:num_trial]) "
   ]
  },
  {
   "cell_type": "code",
   "execution_count": null,
   "metadata": {},
   "outputs": [],
   "source": [
    "minimizer = minimum_minimizer_list[argmin([minimum_minimizer_list[i][1] for i in 1:num_trial])][2]  "
   ]
  },
  {
   "cell_type": "code",
   "execution_count": null,
   "metadata": {},
   "outputs": [],
   "source": [
    "S_opt = S_func([minimizer[1:N]..., [0 for _ in 1:N^2]..., minimizer[N+1:N+N^2]...])\n",
    "M_opt = M0 * transpose(S_opt)"
   ]
  },
  {
   "cell_type": "code",
   "execution_count": null,
   "metadata": {},
   "outputs": [],
   "source": [
    "fn = \"data/optimized_codes/distance_$(code)_$(num_trial).jld2\" ; "
   ]
  },
  {
   "cell_type": "code",
   "execution_count": null,
   "metadata": {},
   "outputs": [],
   "source": [
    "# # Uncomment this cell if you want to overwrite the data\n",
    "\n",
    "# jldsave(fn; \n",
    "#     optimized_distance = optimized_distance,\n",
    "#     minimizer = minimizer,\n",
    "#     S_opt=S_opt,\n",
    "#     M_opt=M_opt,    \n",
    "#     num_trial=num_trial)"
   ]
  },
  {
   "cell_type": "code",
   "execution_count": null,
   "metadata": {},
   "outputs": [],
   "source": [
    "load(fn)"
   ]
  },
  {
   "cell_type": "code",
   "execution_count": null,
   "metadata": {},
   "outputs": [],
   "source": [
    "## known best result from d=3 surface code"
   ]
  },
  {
   "cell_type": "markdown",
   "metadata": {},
   "source": [
    "# N=10"
   ]
  },
  {
   "cell_type": "code",
   "execution_count": null,
   "metadata": {},
   "outputs": [],
   "source": [
    "@everywhere begin\n",
    "    N = 10\n",
    "    code = \"opt_$N\"; \n",
    "    M0 = BlockDiagonal([[sqrt(2) 0; 0 sqrt(2)], [[1 0; 0 1] for _ in 2:N]...]);\n",
    "    S_func = general_symplectic(N, method = \"Bloch_Messiah\") \n",
    "end\n",
    "\n",
    "# num_trial = 1000;\n",
    "r_max = 3;\n",
    "θ_max = 2π; \n",
    "S_param_0_list = [[((1 / r_max) .+ (r_max - (1 / r_max)) * rand(N))..., (θ_max * rand(N^2))...]  for _ in 1:num_trial]; \n",
    "\n",
    "minimum_minimizer_list = @time get_minimum_minimizer_list(S_param_0_list) ; "
   ]
  },
  {
   "cell_type": "code",
   "execution_count": null,
   "metadata": {},
   "outputs": [],
   "source": [
    "optimized_distance = minimum([minimum_minimizer_list[i][1] for i in 1:num_trial]) "
   ]
  },
  {
   "cell_type": "code",
   "execution_count": null,
   "metadata": {},
   "outputs": [],
   "source": [
    "minimizer = minimum_minimizer_list[argmin([minimum_minimizer_list[i][1] for i in 1:num_trial])][2]  "
   ]
  },
  {
   "cell_type": "code",
   "execution_count": null,
   "metadata": {},
   "outputs": [],
   "source": [
    "S_opt = S_func([minimizer[1:N]..., [0 for _ in 1:N^2]..., minimizer[N+1:N+N^2]...])\n",
    "M_opt = M0 * transpose(S_opt)"
   ]
  },
  {
   "cell_type": "code",
   "execution_count": null,
   "metadata": {},
   "outputs": [],
   "source": [
    "fn = \"data/optimized_codes/distance_$(code)_$(num_trial).jld2\" ; "
   ]
  },
  {
   "cell_type": "code",
   "execution_count": null,
   "metadata": {},
   "outputs": [],
   "source": [
    "# # Uncomment this cell if you want to overwrite the data\n",
    "\n",
    "# jldsave(fn; \n",
    "#     optimized_distance = optimized_distance,\n",
    "#     minimizer = minimizer,\n",
    "#     S_opt=S_opt,\n",
    "#     M_opt=M_opt,    \n",
    "#     num_trial=num_trial)"
   ]
  },
  {
   "cell_type": "code",
   "execution_count": 67,
   "metadata": {},
   "outputs": [
    {
     "data": {
      "text/plain": [
       "Dict{String, Any} with 5 entries:\n",
       "  \"M_opt\"              => [0.69458 -0.252138 … -1.89719 0.0704011; 0.953008 0.1…\n",
       "  \"S_opt\"              => [0.491142 0.673878 … -0.222413 0.0351977; -0.178288 0…\n",
       "  \"minimizer\"          => [0.664824, 1.31715, 1.44488, 2.31008, 1.37858, 1.8551…\n",
       "  \"optimized_distance\" => -3.54596\n",
       "  \"num_trial\"          => 1000"
      ]
     },
     "execution_count": 67,
     "metadata": {},
     "output_type": "execute_result"
    }
   ],
   "source": [
    "load(fn)"
   ]
  },
  {
   "cell_type": "code",
   "execution_count": 68,
   "metadata": {},
   "outputs": [
    {
     "data": {
      "text/plain": [
       "\"distance_opt_10_1000.jld2\""
      ]
     },
     "execution_count": 68,
     "metadata": {},
     "output_type": "execute_result"
    }
   ],
   "source": [
    "fn"
   ]
  },
  {
   "cell_type": "code",
   "execution_count": 69,
   "metadata": {},
   "outputs": [
    {
     "data": {
      "text/plain": [
       "3.748283535444117"
      ]
     },
     "execution_count": 69,
     "metadata": {},
     "output_type": "execute_result"
    }
   ],
   "source": [
    "## known best result from tess_4N and [5,1,3] x hex?\n",
    "best_result = √(2π) * (N/2)^(1/4)"
   ]
  },
  {
   "cell_type": "markdown",
   "metadata": {},
   "source": [
    "# Get the fidelities for the optimized codes"
   ]
  },
  {
   "cell_type": "code",
   "execution_count": null,
   "metadata": {},
   "outputs": [],
   "source": [
    "## \n",
    "Nrange = 2:10\n",
    "M_opt_list = []\n",
    "for N in Nrange\n",
    "    push!(M_opt_list, load(\"data/optimized_codes/distance_opt_$(N)_$(num_trial).jld2\")[\"M_opt\"])\n",
    "end\n",
    "\n",
    "\n",
    "ξ_list = []\n",
    "fidelities = Dict()\n",
    "for (ind, N) in enumerate(Nrange)\n",
    "    for σ in σrange\n",
    "        fidelities[(N, σ)] = [0, 0, 0, 0]\n",
    "        for _ in 1 : num_samples\n",
    "            push!(ξ_list, (N, σ, σ * randn(2N)))\n",
    "        end\n",
    "    end\n",
    "end\n",
    "\n",
    "@time outcomes = pmap(ξ_list) do (N, σ, ξ)\n",
    "    ind = findall(x->x==N, Nrange)[1]\n",
    "    M_opt = M_opt_list[ind]\n",
    "    Mperp = GKP_logical_operator_generator_canonical(M_opt)    \n",
    "    \n",
    "    count = [0, 0, 0, 0]; # I,X,Z,Y\n",
    "    y = closest_point(ξ, √(2π) * Mperp) # y = √(2π) * transpose(Mperp) * u\n",
    "    u = inv(transpose(√(2π) * Mperp)) * y\n",
    "    nx, nz = round.(Int, u[1:2])\n",
    "\n",
    "    if mod(nx, 2) == 0 && mod(nz, 2) == 0\n",
    "        count[1] += 1\n",
    "    elseif mod(nx, 2) == 1 && mod(nz, 2) == 0\n",
    "        count[2] += 1\n",
    "    elseif mod(nx, 2) == 0 && mod(nz, 2) == 1\n",
    "        count[3] += 1\n",
    "    elseif mod(nx, 2) == 1 && mod(nz, 2) == 1\n",
    "        count[4] += 1\n",
    "    end\n",
    "    \n",
    "    return (N, σ, count/num_samples)\n",
    "end\n",
    "\n",
    "for (N, σ, count) in outcomes\n",
    "    fidelities[(N, σ)] += count\n",
    "end\n",
    "\n"
   ]
  },
  {
   "cell_type": "code",
   "execution_count": null,
   "metadata": {},
   "outputs": [],
   "source": [
    "# # Uncomment this cell if you want to overwrite the data\n",
    "\n",
    "# fn = \"data/optimized_codes/fidelity_optimized_codes.jld2\"\n",
    "# jldsave(fn; \n",
    "#     Nrange=Nrange, \n",
    "#     σrange=σrange,\n",
    "#     num_samples=num_samples,\n",
    "#     M_opt_list=M_opt_list,\n",
    "#     fidelities=fidelities\n",
    "# )\n"
   ]
  }
 ],
 "metadata": {
  "kernelspec": {
   "display_name": "Julia 1.8.2",
   "language": "julia",
   "name": "julia-1.8"
  },
  "language_info": {
   "file_extension": ".jl",
   "mimetype": "application/julia",
   "name": "julia",
   "version": "1.8.2"
  },
  "varInspector": {
   "cols": {
    "lenName": 16,
    "lenType": 16,
    "lenVar": 40
   },
   "kernels_config": {
    "python": {
     "delete_cmd_postfix": "",
     "delete_cmd_prefix": "del ",
     "library": "var_list.py",
     "varRefreshCmd": "print(var_dic_list())"
    },
    "r": {
     "delete_cmd_postfix": ") ",
     "delete_cmd_prefix": "rm(",
     "library": "var_list.r",
     "varRefreshCmd": "cat(var_dic_list()) "
    }
   },
   "types_to_exclude": [
    "module",
    "function",
    "builtin_function_or_method",
    "instance",
    "_Feature"
   ],
   "window_display": false
  }
 },
 "nbformat": 4,
 "nbformat_minor": 4
}
