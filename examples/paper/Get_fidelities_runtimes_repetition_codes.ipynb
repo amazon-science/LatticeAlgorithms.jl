{
 "cells": [
  {
   "cell_type": "markdown",
   "id": "4559426d",
   "metadata": {},
   "source": [
    "# Get the fidelities and runtimes for the repetition codes\n",
    "\n",
    "Long runtime should be anticipated, and vary for different machine used. "
   ]
  },
  {
   "cell_type": "code",
   "execution_count": 1,
   "id": "d360bad8",
   "metadata": {
    "scrolled": true
   },
   "outputs": [],
   "source": [
    "using Distributed\n",
    "\n",
    "num_cores = length(Sys.cpu_info())\n",
    "if nprocs()==1\n",
    "    addprocs(num_cores; exeflags=`--project=$(Base.active_project())`)\n",
    "end    \n",
    "\n",
    "@everywhere begin\n",
    "    using LatticeAlgorithms\n",
    "    using Counters\n",
    "end\n",
    "using Plots\n",
    "using JLD2"
   ]
  },
  {
   "cell_type": "code",
   "execution_count": 10,
   "id": "af48ca07",
   "metadata": {},
   "outputs": [
    {
     "data": {
      "text/plain": [
       "1:30"
      ]
     },
     "execution_count": 10,
     "metadata": {},
     "output_type": "execute_result"
    }
   ],
   "source": [
    "num_samples = 1e6\n",
    "σrange = range(0.4, 0.8, 50)\n",
    "Nmin = 1\n",
    "Nmax = 30\n",
    "Nrange = Nmin:Nmax"
   ]
  },
  {
   "cell_type": "markdown",
   "id": "3236f546",
   "metadata": {},
   "source": [
    "## Rep_rec_N code"
   ]
  },
  {
   "cell_type": "code",
   "execution_count": 11,
   "id": "1b7ef218",
   "metadata": {
    "scrolled": true
   },
   "outputs": [],
   "source": [
    "datalist = pmap(σrange) do σ\n",
    "    p0range_temp = []\n",
    "    times_temp = []\n",
    "    for N in Nrange\n",
    "        M = rep_rec(N)\n",
    "        Mperp = GKP_logical_operator_generator_canonical(M)\n",
    "        ξs = [σ * randn(2N) for i in 1:num_samples]\n",
    "        time = @elapsed ys = [decode_rep_rec(ξ) for ξ in ξs]\n",
    "        us = [inv(transpose(√(2π) * Mperp)) * y for y in ys]\n",
    "        logicals = [mod.(round.(Int, u[1:2]), 2) for u in us]\n",
    "        push!(p0range_temp, counter(logicals)[[0,0]]/num_samples)\n",
    "        push!(times_temp, time/num_samples)            \n",
    "    end\n",
    "    return p0range_temp, times_temp\n",
    "end;"
   ]
  },
  {
   "cell_type": "code",
   "execution_count": 12,
   "id": "1fea99ef",
   "metadata": {},
   "outputs": [],
   "source": [
    "# # Uncomment this cell if you want to overwrite the data\n",
    "\n",
    "# fn = \"data/repetition_codes/fidelity_time_rep_rec_$(Nmin)_$(Nmax).jld2\";\n",
    "# jldsave(fn; \n",
    "#     σrange=σrange, \n",
    "#     Nrange=Nrange, \n",
    "#     datalist=datalist,\n",
    "#     num_samples=num_samples\n",
    "# )"
   ]
  },
  {
   "cell_type": "markdown",
   "id": "5b4399ed",
   "metadata": {},
   "source": [
    "## YY_rep_rec_N code"
   ]
  },
  {
   "cell_type": "code",
   "execution_count": null,
   "id": "881665fb",
   "metadata": {},
   "outputs": [],
   "source": [
    "num_samples = 1e6\n",
    "σrange = range(0.4, 0.8, 50)\n",
    "Nmin = 1\n",
    "Nmax = 20\n",
    "Nrange = Nmin:Nmax"
   ]
  },
  {
   "cell_type": "code",
   "execution_count": null,
   "id": "d0667712",
   "metadata": {},
   "outputs": [],
   "source": [
    "datalist = pmap(σrange) do σ\n",
    "    p0range_temp = []\n",
    "    times_temp = []                \n",
    "    for N in Nrange\n",
    "        M = YY_rep_rec(N)\n",
    "        Mperp = GKP_logical_operator_generator_canonical(M)\n",
    "        _, _, Q2, r2 = tlq_YY_rep_rec(N)\n",
    "        ξs = [σ * randn(4N) for i in 1:num_samples]\n",
    "        time = @elapsed ys = [decode_YY_rep_rec(ξ, Q2, r2) for ξ in ξs]\n",
    "        us = [inv(transpose(√(2π) * Mperp)) * y for y in ys]\n",
    "        logicals = [mod.(round.(Int, u[1:2]), 2) for u in us]\n",
    "        push!(p0range_temp, counter(logicals)[[0,0]]/num_samples)\n",
    "        push!(times_temp, time/num_samples)            \n",
    "    end\n",
    "    return p0range_temp, times_temp\n",
    "end;"
   ]
  },
  {
   "cell_type": "code",
   "execution_count": null,
   "id": "d100c301",
   "metadata": {},
   "outputs": [],
   "source": [
    "# # Uncomment this cell if you want to overwrite the data\n",
    "\n",
    "# fn = \"data/repetition_codes/fidelity_time_YY_rep_rec_$(Nmin)_$(Nmax).jld2\";\n",
    "# jldsave(fn; \n",
    "#     σrange=σrange, \n",
    "#     Nrange=Nrange, \n",
    "#     datalist=datalist,\n",
    "#     num_samples=num_samples\n",
    "# )"
   ]
  },
  {
   "cell_type": "markdown",
   "id": "d6c592c5",
   "metadata": {},
   "source": [
    "# Get the runtime with exponential time decoder"
   ]
  },
  {
   "cell_type": "markdown",
   "id": "fe4a6d83",
   "metadata": {},
   "source": [
    "## Rep_rec code"
   ]
  },
  {
   "cell_type": "code",
   "execution_count": null,
   "id": "8b8a0006",
   "metadata": {},
   "outputs": [],
   "source": [
    "num_samples = 1e6\n",
    "Nrange = 1 : 10\n",
    "\n",
    "times = pmap(Nrange) do N\n",
    "    M = rep_rec(N)\n",
    "    Mperp = GKP_logical_operator_generator(M)\n",
    "    ξs = [0.6 * randn(2N) for i in 1:num_samples]\n",
    "    \n",
    "    t1 = @elapsed ys1 = [decode_rep_rec(ξ) for ξ in ξs]\n",
    "    t2 = @elapsed ys2 = [closest_point(ξ, √(2π) * Mperp) for ξ in ξs]    \n",
    "    \n",
    "    @assert ys1 ≈ ys2\n",
    "    \n",
    "    return t1/num_samples, t2/num_samples\n",
    "end\n",
    "\n",
    "time_linear = [t[1] for t in times]\n",
    "time_exp = [t[2] for t in times] ;\n"
   ]
  },
  {
   "cell_type": "code",
   "execution_count": 19,
   "id": "1fed553d",
   "metadata": {},
   "outputs": [],
   "source": [
    "# # Uncomment this cell if you want to overwrite the data\n",
    "\n",
    "# fn = \"data/repetition_codes/runtime_rep_rec.jld2\";\n",
    "# jldsave(fn; \n",
    "#     Nrange=Nrange, \n",
    "#     time_exp=time_exp, \n",
    "#     time_linear=time_linear,     \n",
    "#     num_samples=num_samples)"
   ]
  },
  {
   "cell_type": "markdown",
   "id": "ba713e47",
   "metadata": {},
   "source": [
    "## YY-rep-rec code"
   ]
  },
  {
   "cell_type": "code",
   "execution_count": null,
   "id": "84f5c3b9",
   "metadata": {},
   "outputs": [],
   "source": [
    "num_samples = 1e6\n",
    "Nrange = 1 : 10\n",
    "\n",
    "times = pmap(Nrange) do N\n",
    "    M = YY_rep_rec(N)\n",
    "    Mperp = GKP_logical_operator_generator(M)\n",
    "    ξs = [0.6 * randn(2N) for i in 1:num_samples]\n",
    "    \n",
    "    t1 = @elapsed ys1 = [decode_YY_rep_rec(ξ) for ξ in ξs]\n",
    "    t2 = @elapsed ys2 = [closest_point(ξ, √(2π) * Mperp) for ξ in ξs]    \n",
    "    \n",
    "    @assert ys1 ≈ ys2\n",
    "    \n",
    "    return t1/num_samples, t2/num_samples\n",
    "end\n",
    "\n",
    "time_linear = [t[1] for t in times]\n",
    "time_exp = [t[2] for t in times] ;\n"
   ]
  },
  {
   "cell_type": "code",
   "execution_count": null,
   "id": "3c33945d",
   "metadata": {},
   "outputs": [],
   "source": [
    "# # Uncomment this cell if you want to overwrite the data\n",
    "\n",
    "# fn = \"data/repetition_codes/runtime_YY_rep_rec.jld2\";\n",
    "# jldsave(fn; \n",
    "#     Nrange=Nrange, \n",
    "#     time_exp=time_exp, \n",
    "#     time_linear=time_linear,     \n",
    "#     num_samples=num_samples)"
   ]
  }
 ],
 "metadata": {
  "kernelspec": {
   "display_name": "Julia 1.8.2",
   "language": "julia",
   "name": "julia-1.8"
  },
  "language_info": {
   "file_extension": ".jl",
   "mimetype": "application/julia",
   "name": "julia",
   "version": "1.8.2"
  },
  "varInspector": {
   "cols": {
    "lenName": 16,
    "lenType": 16,
    "lenVar": 40
   },
   "kernels_config": {
    "python": {
     "delete_cmd_postfix": "",
     "delete_cmd_prefix": "del ",
     "library": "var_list.py",
     "varRefreshCmd": "print(var_dic_list())"
    },
    "r": {
     "delete_cmd_postfix": ") ",
     "delete_cmd_prefix": "rm(",
     "library": "var_list.r",
     "varRefreshCmd": "cat(var_dic_list()) "
    }
   },
   "types_to_exclude": [
    "module",
    "function",
    "builtin_function_or_method",
    "instance",
    "_Feature"
   ],
   "window_display": false
  }
 },
 "nbformat": 4,
 "nbformat_minor": 5
}
