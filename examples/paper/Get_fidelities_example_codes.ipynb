{
 "cells": [
  {
   "cell_type": "code",
   "execution_count": 4,
   "metadata": {},
   "outputs": [],
   "source": [
    "using Distributed\n",
    "if nprocs()==1\n",
    "    addprocs(length(Sys.cpu_info()); exeflags=`--project=$(Base.active_project())`)\n",
    "end    \n",
    "println(\"Number of processes = $(nprocs())\")"
   ]
  },
  {
   "cell_type": "code",
   "execution_count": 5,
   "metadata": {},
   "outputs": [],
   "source": [
    "@everywhere begin\n",
    "    using LatticeAlgorithms\n",
    "    using LinearAlgebra\n",
    "    using BlockDiagonals\n",
    "end"
   ]
  },
  {
   "cell_type": "markdown",
   "metadata": {},
   "source": [
    "# Get the fidelity for example GKP codes\n",
    "\n",
    "5 modes: [5,1,3] with hex\n",
    "\n",
    "7 modes: [7,1,3] with hex\n",
    "\n",
    "9 modes: surface with hex\n",
    "\n",
    "10 modes: [5,1,3] with D4"
   ]
  },
  {
   "cell_type": "code",
   "execution_count": 7,
   "metadata": {},
   "outputs": [],
   "source": [
    "S_hex_T = [2 0; \n",
    "    1 sqrt(3)] / (12)^(1/4);"
   ]
  },
  {
   "cell_type": "markdown",
   "metadata": {},
   "source": [
    "## 5 modes: [5,1,3] with hex"
   ]
  },
  {
   "cell_type": "code",
   "execution_count": 8,
   "metadata": {},
   "outputs": [
    {
     "data": {
      "text/plain": [
       "3.298908332373798"
      ]
     },
     "execution_count": 8,
     "metadata": {},
     "output_type": "execute_result"
    }
   ],
   "source": [
    "M_513 = [\n",
    "    1 0 0 1 0 1 1 0 0 0; \n",
    "    0 2 0 0 0 0 0 0 0 0; \n",
    "    0 0 1 0 0 1 0 1 1 0; \n",
    "    0 0 0 2 0 0 0 0 0 0;\n",
    "    1 0 0 0 1 0 0 1 0 1; \n",
    "    0 0 0 0 0 2 0 0 0 0; \n",
    "    0 1 1 0 0 0 1 0 0 1; \n",
    "    0 0 0 0 0 0 0 2 0 0; \n",
    "    0 0 0 0 0 0 0 0 2 0; \n",
    "    0 0 0 0 0 0 0 0 0 2\n",
    "]/√2 * BlockDiagonal([S_hex_T for _ in 1 : 5])\n",
    "distance_513 = min(distances(M_513)...)"
   ]
  },
  {
   "cell_type": "markdown",
   "metadata": {},
   "source": [
    "## 7 modes: [7,1,3] with hex\n"
   ]
  },
  {
   "cell_type": "code",
   "execution_count": 9,
   "metadata": {},
   "outputs": [
    {
     "data": {
      "text/plain": [
       "3.298908332373796"
      ]
     },
     "execution_count": 9,
     "metadata": {},
     "output_type": "execute_result"
    }
   ],
   "source": [
    "M_713 = [\n",
    "    1 0 0 0 1 0 0 0 1 0 0 0 1 0; # ZIZIZIZ\n",
    "    0 1 0 0 0 1 0 0 0 1 0 0 0 1; # XIXIXIX    \n",
    "    0 0 1 0 1 0 0 0 0 0 1 0 1 0; # IZZIIZZ    \n",
    "    0 0 0 1 0 1 0 0 0 0 0 1 0 1; # IXXIIXX\n",
    "    0 0 0 0 2 0 0 0 0 0 0 0 0 0;\n",
    "    0 0 0 0 0 2 0 0 0 0 0 0 0 0; \n",
    "    0 0 0 0 0 0 1 0 1 0 1 0 1 0; # IIIZZZZ    \n",
    "    0 0 0 0 0 0 0 1 0 1 0 1 0 1; # IIIXXXX \n",
    "    0 0 0 0 0 0 0 0 2 0 0 0 0 0;\n",
    "    0 0 0 0 0 0 0 0 0 2 0 0 0 0;\n",
    "    0 0 0 0 0 0 0 0 0 0 2 0 0 0;\n",
    "    0 0 0 0 0 0 0 0 0 0 0 2 0 0;\n",
    "    0 0 0 0 0 0 0 0 0 0 0 0 2 0;\n",
    "    0 0 0 0 0 0 0 0 0 0 0 0 0 2\n",
    "]/√2 * BlockDiagonal([S_hex_T for _ in 1 : 7])\n",
    "distance_713 = min(distances(M_713)...)"
   ]
  },
  {
   "cell_type": "markdown",
   "metadata": {},
   "source": [
    "## 9 modes: surface with hex"
   ]
  },
  {
   "cell_type": "code",
   "execution_count": 10,
   "metadata": {},
   "outputs": [
    {
     "data": {
      "text/plain": [
       "3.2989083323737938"
      ]
     },
     "execution_count": 10,
     "metadata": {},
     "output_type": "execute_result"
    }
   ],
   "source": [
    "M_surf = surface_code_M(3) * BlockDiagonal([S_hex_T for _ in 1:9])\n",
    "distance_surf = min(distances(M_surf)...)\n"
   ]
  },
  {
   "cell_type": "markdown",
   "metadata": {},
   "source": [
    "## 10 modes: [5,1,3] with D4"
   ]
  },
  {
   "cell_type": "code",
   "execution_count": 11,
   "metadata": {},
   "outputs": [],
   "source": [
    "S_D4_T = [1/sqrt(2) 0 0 0; \n",
    "    0 1/sqrt(2) 0 0; \n",
    "    0 0 1 0; \n",
    "    0 0 0 1] * [0 2 0 0; \n",
    "    -1 -1 1 1; \n",
    "    0 0 1 1; \n",
    "    0 1 -1 0];\n",
    "M0 = [1 0 0 0 0 1 0 0 0 1 0 0 1 0 0 0 0 0 0 0;    # ZXXZI\n",
    "    0 2 0 0 0 0 0 0 0 0 0 0 0 0 0 0 0 0 0 0;      \n",
    "    0 0 sqrt(2) 0 0 0 0 0 0 0 0 0 0 0 0 0 0 0 0 0; \n",
    "    0 0 0 sqrt(2) 0 0 0 0 0 0 0 0 0 0 0 0 0 0 0 0; \n",
    "    0 0 0 0 1 0 0 0 0 1 0 0 0 1 0 0 1 0 0 0;      # IZXXZ\n",
    "    0 0 0 0 0 2 0 0 0 0 0 0 0 0 0 0 0 0 0 0; \n",
    "    0 0 0 0 0 0 sqrt(2) 0 0 0 0 0 0 0 0 0 0 0 0 0; \n",
    "    0 0 0 0 0 0 0 sqrt(2) 0 0 0 0 0 0 0 0 0 0 0 0; \n",
    "    1 0 0 0 0 0 0 0 1 0 0 0 0 1 0 0 0 1 0 0;      # ZIZXX\n",
    "    0 0 0 0 0 0 0 0 0 2 0 0 0 0 0 0 0 0 0 0; \n",
    "    0 0 0 0 0 0 0 0 0 0 sqrt(2) 0 0 0 0 0 0 0 0 0; \n",
    "    0 0 0 0 0 0 0 0 0 0 0 sqrt(2) 0 0 0 0 0 0 0 0; \n",
    "    0 1 0 0 1 0 0 0 0 0 0 0 1 0 0 0 0 1 0 0;      # XZIZX\n",
    "    0 0 0 0 0 0 0 0 0 0 0 0 0 2 0 0 0 0 0 0; \n",
    "    0 0 0 0 0 0 0 0 0 0 0 0 0 0 sqrt(2) 0 0 0 0 0;\n",
    "    0 0 0 0 0 0 0 0 0 0 0 0 0 0 0 sqrt(2) 0 0 0 0; \n",
    "    0 0 0 0 0 0 0 0 0 0 0 0 0 0 0 0 2 0 0 0;\n",
    "    0 0 0 0 0 0 0 0 0 0 0 0 0 0 0 0 0 2 0 0; \n",
    "    0 0 0 0 0 0 0 0 0 0 0 0 0 0 0 0 0 0 sqrt(2) 0; \n",
    "    0 0 0 0 0 0 0 0 0 0 0 0 0 0 0 0 0 0 0 sqrt(2)] / sqrt(2);\n",
    "\n",
    "M_513_D4 = M0 * BlockDiagonal([S_D4_T for _ in 1:5]);"
   ]
  },
  {
   "cell_type": "code",
   "execution_count": 12,
   "metadata": {},
   "outputs": [
    {
     "data": {
      "text/plain": [
       "4.341607527349578"
      ]
     },
     "execution_count": 12,
     "metadata": {},
     "output_type": "execute_result"
    }
   ],
   "source": [
    "distance_M_513_D4 = min(distances(M_513_D4)...)"
   ]
  },
  {
   "cell_type": "code",
   "execution_count": 22,
   "metadata": {},
   "outputs": [
    {
     "data": {
      "text/plain": [
       "1-element Vector{Float64}:\n",
       " 0.5469387755102041"
      ]
     },
     "execution_count": 22,
     "metadata": {},
     "output_type": "execute_result"
    }
   ],
   "source": [
    "num_samples = 1e6\n",
    "σrange = range(0.4, 0.8, 50)\n",
    "σind = 19\n",
    "σrange = [σrange[σind]]"
   ]
  },
  {
   "cell_type": "code",
   "execution_count": 307,
   "metadata": {},
   "outputs": [],
   "source": [
    "Nrange = [5, 7, 9, 10]\n",
    "M_opt_list = [M_513, M_713, M_surf, M_513_D4];\n",
    "\n",
    "ξ_list = []\n",
    "fidelities = Dict()\n",
    "for (ind, N) in enumerate(Nrange)\n",
    "    for σ in σrange\n",
    "        # fidelities[(N, σ)] = [0, 0, 0, 0]\n",
    "        if N == 5\n",
    "            fidelities[(\"513_hex\", N, σ)] = [0, 0, 0, 0]\n",
    "        elseif N == 7\n",
    "            fidelities[(\"713_hex\", N, σ)] = [0, 0, 0, 0]\n",
    "        elseif N == 9\n",
    "            fidelities[(\"surf_hex\", N, σ)] = [0, 0, 0, 0]\n",
    "        elseif N == 10\n",
    "            fidelities[(\"513_D4\", N, σ)] = [0, 0, 0, 0]\n",
    "        end\n",
    "        \n",
    "        for _ in 1 : num_samples\n",
    "            push!(ξ_list, (N, σ, σ * randn(2N)))\n",
    "        end\n",
    "    end\n",
    "end\n",
    "\n",
    "@time outcomes = pmap(ξ_list) do (N, σ, ξ)\n",
    "    ind = findall(x->x==N, Nrange)[1]\n",
    "    M_opt = M_opt_list[ind]\n",
    "    Mperp = GKP_logical_operator_generator_canonical(M_opt)    \n",
    "    \n",
    "    count = [0, 0, 0, 0]; # I,X,Z,Y\n",
    "    y = closest_point(ξ, √(2π) * Mperp) # y = √(2π) * transpose(Mperp) * u\n",
    "    u = inv(transpose(√(2π) * Mperp)) * y\n",
    "    nx, nz = round.(Int, u[1:2])\n",
    "\n",
    "    if mod(nx, 2) == 0 && mod(nz, 2) == 0\n",
    "        count[1] += 1\n",
    "    elseif mod(nx, 2) == 1 && mod(nz, 2) == 0\n",
    "        count[2] += 1\n",
    "    elseif mod(nx, 2) == 0 && mod(nz, 2) == 1\n",
    "        count[3] += 1\n",
    "    elseif mod(nx, 2) == 1 && mod(nz, 2) == 1\n",
    "        count[4] += 1\n",
    "    end\n",
    "    \n",
    "    return (N, σ, count/num_samples)\n",
    "end\n",
    "\n",
    "\n",
    "for (N, σ, count) in outcomes\n",
    "    if N == 5\n",
    "        fidelities[(\"513_hex\", N, σ)] += count\n",
    "    elseif N == 7\n",
    "        fidelities[(\"713_hex\", N, σ)] += count\n",
    "    elseif N == 9\n",
    "        fidelities[(\"surf_hex\", N, σ)] += count\n",
    "    elseif N == 10\n",
    "        fidelities[(\"513_D4\", N, σ)] += count\n",
    "    end\n",
    "end\n",
    "\n"
   ]
  },
  {
   "cell_type": "code",
   "execution_count": null,
   "metadata": {},
   "outputs": [],
   "source": [
    "# # Uncomment this cell if you want to overwrite the data\n",
    "\n",
    "# fn = \"data/example_codes/fidelity_examples.jld2\"\n",
    "# jldsave(fn; \n",
    "#     σrange=σrange,\n",
    "#     num_samples=num_samples,\n",
    "#     fidelities=fidelities,\n",
    "#     M_opt_list = M_opt_list,\n",
    "#     Nrange = Nrange\n",
    "# )\n"
   ]
  }
 ],
 "metadata": {
  "kernelspec": {
   "display_name": "Julia 1.8.2",
   "language": "julia",
   "name": "julia-1.8"
  },
  "language_info": {
   "file_extension": ".jl",
   "mimetype": "application/julia",
   "name": "julia",
   "version": "1.8.2"
  },
  "varInspector": {
   "cols": {
    "lenName": 16,
    "lenType": 16,
    "lenVar": 40
   },
   "kernels_config": {
    "python": {
     "delete_cmd_postfix": "",
     "delete_cmd_prefix": "del ",
     "library": "var_list.py",
     "varRefreshCmd": "print(var_dic_list())"
    },
    "r": {
     "delete_cmd_postfix": ") ",
     "delete_cmd_prefix": "rm(",
     "library": "var_list.r",
     "varRefreshCmd": "cat(var_dic_list()) "
    }
   },
   "types_to_exclude": [
    "module",
    "function",
    "builtin_function_or_method",
    "instance",
    "_Feature"
   ],
   "window_display": false
  }
 },
 "nbformat": 4,
 "nbformat_minor": 4
}
