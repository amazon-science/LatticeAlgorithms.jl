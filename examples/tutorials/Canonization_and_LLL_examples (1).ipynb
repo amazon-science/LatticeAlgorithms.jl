{
 "cells": [
  {
   "cell_type": "markdown",
   "id": "09b58b5b",
   "metadata": {},
   "source": [
    "# Here we demonstrate the decomposition with the four lattices of interest\n",
    "\n",
    "In particular, we are given an initial and final GKP codes with generator matrices $M_1$, $M_2$, we shall use `GetSymplecticU(M1, M2)` to calculate $R_1$, $R_2$, S such that \n",
    "1. $A_μ = (R_μ.M_μ).Ω.(R_μ.M_μ)^T$, for μ=1,2, are in the canonical form\n",
    "2. $(R_2.M_2)^T = S.(R_1.S_1)^T$ where S is in the standard form"
   ]
  },
  {
   "cell_type": "code",
   "execution_count": 1,
   "id": "f18f9aa8",
   "metadata": {},
   "outputs": [
    {
     "name": "stderr",
     "output_type": "stream",
     "text": [
      "\u001b[32m\u001b[1m  Activating\u001b[22m\u001b[39m new project at `~/MultiModeGKP/LLLExamples`\n"
     ]
    }
   ],
   "source": [
    "using Pkg\n",
    "Pkg.activate(\".\")"
   ]
  },
  {
   "cell_type": "code",
   "execution_count": 2,
   "id": "d47a75a9",
   "metadata": {},
   "outputs": [
    {
     "name": "stderr",
     "output_type": "stream",
     "text": [
      "\u001b[32m\u001b[1m    Updating\u001b[22m\u001b[39m git-repo `git@ssh.gitlab.aws.dev:cqc/qat/latticealgorithms.jl.git`\n",
      "Warning: Permanently added 'ssh.gitlab.aws.dev,52.54.97.5' (ECDSA) to the list of known hosts.\n",
      "\u001b[32m\u001b[1m    Updating\u001b[22m\u001b[39m registry at `~/.julia/registries/CQCJuliaRegistry`\n",
      "\u001b[32m\u001b[1m    Updating\u001b[22m\u001b[39m git-repo `git@ssh.gitlab.aws.dev:cqc/cqcjuliaregistry.git`\n",
      "Warning: Permanently added 'ssh.gitlab.aws.dev,54.163.31.93' (ECDSA) to the list of known hosts.\n",
      "\u001b[32m\u001b[1m    Updating\u001b[22m\u001b[39m registry at `~/.julia/registries/General.toml`\n",
      "\u001b[32m\u001b[1m   Resolving\u001b[22m\u001b[39m package versions...\n",
      "\u001b[32m\u001b[1m   Installed\u001b[22m\u001b[39m ChangesOfVariables ─ v0.1.4\n",
      "\u001b[32m\u001b[1m    Updating\u001b[22m\u001b[39m `~/MultiModeGKP/LLLExamples/Project.toml`\n",
      " \u001b[90m [a78adfda] \u001b[39m\u001b[92m+ LatticeAlgorithms v0.1.0 `git@ssh.gitlab.aws.dev:cqc/qat/latticealgorithms.jl.git#main`\u001b[39m\n",
      "\u001b[32m\u001b[1m    Updating\u001b[22m\u001b[39m `~/MultiModeGKP/LLLExamples/Manifest.toml`\n",
      " \u001b[90m [0a1fb500] \u001b[39m\u001b[92m+ BlockDiagonals v0.1.34\u001b[39m\n",
      " \u001b[90m [49dc2e85] \u001b[39m\u001b[92m+ Calculus v0.5.1\u001b[39m\n",
      " \u001b[90m [d360d2e6] \u001b[39m\u001b[92m+ ChainRulesCore v1.15.2\u001b[39m\n",
      " \u001b[90m [9e997f8a] \u001b[39m\u001b[92m+ ChangesOfVariables v0.1.4\u001b[39m\n",
      " \u001b[90m [34da2185] \u001b[39m\u001b[92m+ Compat v4.1.0\u001b[39m\n",
      " \u001b[90m [667455a9] \u001b[39m\u001b[92m+ Cubature v1.5.1\u001b[39m\n",
      " \u001b[90m [9a962f9c] \u001b[39m\u001b[92m+ DataAPI v1.10.0\u001b[39m\n",
      " \u001b[90m [864edb3b] \u001b[39m\u001b[92m+ DataStructures v0.18.13\u001b[39m\n",
      " \u001b[90m [b429d917] \u001b[39m\u001b[92m+ DensityInterface v0.4.0\u001b[39m\n",
      " \u001b[90m [31c24e10] \u001b[39m\u001b[92m+ Distributions v0.25.65\u001b[39m\n",
      " \u001b[90m [ffbed154] \u001b[39m\u001b[92m+ DocStringExtensions v0.8.6\u001b[39m\n",
      " \u001b[90m [fa6b7ba4] \u001b[39m\u001b[92m+ DualNumbers v0.6.8\u001b[39m\n",
      " \u001b[90m [1a297f60] \u001b[39m\u001b[92m+ FillArrays v0.13.2\u001b[39m\n",
      " \u001b[90m [26cc04aa] \u001b[39m\u001b[92m+ FiniteDifferences v0.12.24\u001b[39m\n",
      " \u001b[90m [34004b35] \u001b[39m\u001b[92m+ HypergeometricFunctions v0.3.11\u001b[39m\n",
      " \u001b[90m [3587e190] \u001b[39m\u001b[92m+ InverseFunctions v0.1.7\u001b[39m\n",
      " \u001b[90m [92d709cd] \u001b[39m\u001b[92m+ IrrationalConstants v0.1.1\u001b[39m\n",
      " \u001b[90m [692b3bcd] \u001b[39m\u001b[92m+ JLLWrappers v1.4.1\u001b[39m\n",
      " \u001b[90m [a78adfda] \u001b[39m\u001b[92m+ LatticeAlgorithms v0.1.0 `git@ssh.gitlab.aws.dev:cqc/qat/latticealgorithms.jl.git#main`\u001b[39m\n",
      " \u001b[90m [2ab3a3ac] \u001b[39m\u001b[92m+ LogExpFunctions v0.3.15\u001b[39m\n",
      " \u001b[90m [e1d29d7a] \u001b[39m\u001b[92m+ Missings v1.0.2\u001b[39m\n",
      " \u001b[90m [77ba4419] \u001b[39m\u001b[92m+ NaNMath v1.0.1\u001b[39m\n",
      " \u001b[90m [bac558e1] \u001b[39m\u001b[92m+ OrderedCollections v1.4.1\u001b[39m\n",
      " \u001b[90m [90014a1f] \u001b[39m\u001b[92m+ PDMats v0.11.16\u001b[39m\n",
      " \u001b[90m [21216c6a] \u001b[39m\u001b[92m+ Preferences v1.3.0\u001b[39m\n",
      " \u001b[90m [1fd47b50] \u001b[39m\u001b[92m+ QuadGK v2.4.2\u001b[39m\n",
      " \u001b[90m [189a3867] \u001b[39m\u001b[92m+ Reexport v1.2.2\u001b[39m\n",
      " \u001b[90m [708f8203] \u001b[39m\u001b[92m+ Richardson v1.4.0\u001b[39m\n",
      " \u001b[90m [79098fc4] \u001b[39m\u001b[92m+ Rmath v0.7.0\u001b[39m\n",
      " \u001b[90m [a2af1166] \u001b[39m\u001b[92m+ SortingAlgorithms v1.0.1\u001b[39m\n",
      " \u001b[90m [276daf66] \u001b[39m\u001b[92m+ SpecialFunctions v2.1.7\u001b[39m\n",
      " \u001b[90m [90137ffa] \u001b[39m\u001b[92m+ StaticArrays v1.5.1\u001b[39m\n",
      " \u001b[90m [1e83bf80] \u001b[39m\u001b[92m+ StaticArraysCore v1.0.1\u001b[39m\n",
      " \u001b[90m [82ae8749] \u001b[39m\u001b[92m+ StatsAPI v1.4.0\u001b[39m\n",
      " \u001b[90m [2913bbd2] \u001b[39m\u001b[92m+ StatsBase v0.33.19\u001b[39m\n",
      " \u001b[90m [4c63d2b9] \u001b[39m\u001b[92m+ StatsFuns v1.0.1\u001b[39m\n",
      " \u001b[90m [592b5752] \u001b[39m\u001b[92m+ Trapz v2.0.3\u001b[39m\n",
      " \u001b[90m [7bc98958] \u001b[39m\u001b[92m+ Cubature_jll v1.0.5+0\u001b[39m\n",
      " \u001b[90m [efe28fd5] \u001b[39m\u001b[92m+ OpenSpecFun_jll v0.5.5+0\u001b[39m\n",
      " \u001b[90m [f50d1b31] \u001b[39m\u001b[92m+ Rmath_jll v0.3.0+0\u001b[39m\n",
      " \u001b[90m [0dad84c5] \u001b[39m\u001b[92m+ ArgTools\u001b[39m\n",
      " \u001b[90m [56f22d72] \u001b[39m\u001b[92m+ Artifacts\u001b[39m\n",
      " \u001b[90m [2a0f44e3] \u001b[39m\u001b[92m+ Base64\u001b[39m\n",
      " \u001b[90m [ade2ca70] \u001b[39m\u001b[92m+ Dates\u001b[39m\n",
      " \u001b[90m [8ba89e20] \u001b[39m\u001b[92m+ Distributed\u001b[39m\n",
      " \u001b[90m [f43a241f] \u001b[39m\u001b[92m+ Downloads\u001b[39m\n",
      " \u001b[90m [7b1f6079] \u001b[39m\u001b[92m+ FileWatching\u001b[39m\n",
      " \u001b[90m [b77e0a4c] \u001b[39m\u001b[92m+ InteractiveUtils\u001b[39m\n",
      " \u001b[90m [b27032c2] \u001b[39m\u001b[92m+ LibCURL\u001b[39m\n",
      " \u001b[90m [76f85450] \u001b[39m\u001b[92m+ LibGit2\u001b[39m\n",
      " \u001b[90m [8f399da3] \u001b[39m\u001b[92m+ Libdl\u001b[39m\n",
      " \u001b[90m [37e2e46d] \u001b[39m\u001b[92m+ LinearAlgebra\u001b[39m\n",
      " \u001b[90m [56ddb016] \u001b[39m\u001b[92m+ Logging\u001b[39m\n",
      " \u001b[90m [d6f4376e] \u001b[39m\u001b[92m+ Markdown\u001b[39m\n",
      " \u001b[90m [ca575930] \u001b[39m\u001b[92m+ NetworkOptions\u001b[39m\n",
      " \u001b[90m [44cfe95a] \u001b[39m\u001b[92m+ Pkg\u001b[39m\n",
      " \u001b[90m [de0858da] \u001b[39m\u001b[92m+ Printf\u001b[39m\n",
      " \u001b[90m [3fa0cd96] \u001b[39m\u001b[92m+ REPL\u001b[39m\n",
      " \u001b[90m [9a3f8284] \u001b[39m\u001b[92m+ Random\u001b[39m\n",
      " \u001b[90m [ea8e919c] \u001b[39m\u001b[92m+ SHA\u001b[39m\n",
      " \u001b[90m [9e88b42a] \u001b[39m\u001b[92m+ Serialization\u001b[39m\n",
      " \u001b[90m [6462fe0b] \u001b[39m\u001b[92m+ Sockets\u001b[39m\n",
      " \u001b[90m [2f01184e] \u001b[39m\u001b[92m+ SparseArrays\u001b[39m\n",
      " \u001b[90m [10745b16] \u001b[39m\u001b[92m+ Statistics\u001b[39m\n",
      " \u001b[90m [4607b0f0] \u001b[39m\u001b[92m+ SuiteSparse\u001b[39m\n",
      " \u001b[90m [fa267f1f] \u001b[39m\u001b[92m+ TOML\u001b[39m\n",
      " \u001b[90m [a4e569a6] \u001b[39m\u001b[92m+ Tar\u001b[39m\n",
      " \u001b[90m [8dfed614] \u001b[39m\u001b[92m+ Test\u001b[39m\n",
      " \u001b[90m [cf7118a7] \u001b[39m\u001b[92m+ UUIDs\u001b[39m\n",
      " \u001b[90m [4ec0a83e] \u001b[39m\u001b[92m+ Unicode\u001b[39m\n",
      " \u001b[90m [e66e0078] \u001b[39m\u001b[92m+ CompilerSupportLibraries_jll\u001b[39m\n",
      " \u001b[90m [deac9b47] \u001b[39m\u001b[92m+ LibCURL_jll\u001b[39m\n",
      " \u001b[90m [29816b5a] \u001b[39m\u001b[92m+ LibSSH2_jll\u001b[39m\n",
      " \u001b[90m [c8ffd9c3] \u001b[39m\u001b[92m+ MbedTLS_jll\u001b[39m\n",
      " \u001b[90m [14a3606d] \u001b[39m\u001b[92m+ MozillaCACerts_jll\u001b[39m\n",
      " \u001b[90m [4536629a] \u001b[39m\u001b[92m+ OpenBLAS_jll\u001b[39m\n",
      " \u001b[90m [05823500] \u001b[39m\u001b[92m+ OpenLibm_jll\u001b[39m\n",
      " \u001b[90m [83775a58] \u001b[39m\u001b[92m+ Zlib_jll\u001b[39m\n",
      " \u001b[90m [8e850b90] \u001b[39m\u001b[92m+ libblastrampoline_jll\u001b[39m\n",
      " \u001b[90m [8e850ede] \u001b[39m\u001b[92m+ nghttp2_jll\u001b[39m\n",
      " \u001b[90m [3f19e933] \u001b[39m\u001b[92m+ p7zip_jll\u001b[39m\n",
      "\u001b[32m\u001b[1mPrecompiling\u001b[22m\u001b[39m project...\n",
      "\u001b[32m  ✓ \u001b[39m\u001b[90mChangesOfVariables\u001b[39m\n",
      "\u001b[32m  ✓ \u001b[39m\u001b[90mLogExpFunctions\u001b[39m\n",
      "\u001b[32m  ✓ \u001b[39m\u001b[90mStatsBase\u001b[39m\n",
      "\u001b[32m  ✓ \u001b[39m\u001b[90mSpecialFunctions\u001b[39m\n",
      "\u001b[32m  ✓ \u001b[39m\u001b[90mDualNumbers\u001b[39m\n",
      "\u001b[32m  ✓ \u001b[39m\u001b[90mHypergeometricFunctions\u001b[39m\n",
      "\u001b[32m  ✓ \u001b[39m\u001b[90mStatsFuns\u001b[39m\n",
      "\u001b[32m  ✓ \u001b[39m\u001b[90mDistributions\u001b[39m\n",
      "\u001b[32m  ✓ \u001b[39mLatticeAlgorithms\n",
      "  9 dependencies successfully precompiled in 19 seconds (38 already precompiled)\n"
     ]
    }
   ],
   "source": [
    "Pkg.add(url = \"git@ssh.gitlab.aws.dev:cqc/qat/latticealgorithms.jl.git\", rev=\"main\")"
   ]
  },
  {
   "cell_type": "code",
   "execution_count": 3,
   "id": "9a2d5ad5",
   "metadata": {},
   "outputs": [
    {
     "name": "stderr",
     "output_type": "stream",
     "text": [
      "\u001b[32m\u001b[1m   Resolving\u001b[22m\u001b[39m package versions...\n",
      "\u001b[32m\u001b[1m    Updating\u001b[22m\u001b[39m `~/MultiModeGKP/LLLExamples/Project.toml`\n",
      " \u001b[90m [37e2e46d] \u001b[39m\u001b[92m+ LinearAlgebra\u001b[39m\n",
      "\u001b[32m\u001b[1m  No Changes\u001b[22m\u001b[39m to `~/MultiModeGKP/LLLExamples/Manifest.toml`\n"
     ]
    }
   ],
   "source": [
    "] add LinearAlgebra"
   ]
  },
  {
   "cell_type": "code",
   "execution_count": 4,
   "id": "2e58120b",
   "metadata": {},
   "outputs": [
    {
     "name": "stderr",
     "output_type": "stream",
     "text": [
      "\u001b[32m\u001b[1m   Resolving\u001b[22m\u001b[39m package versions...\n",
      "\u001b[32m\u001b[1m    Updating\u001b[22m\u001b[39m `~/MultiModeGKP/LLLExamples/Project.toml`\n",
      " \u001b[90m [0a1fb500] \u001b[39m\u001b[92m+ BlockDiagonals v0.1.34\u001b[39m\n",
      "\u001b[32m\u001b[1m  No Changes\u001b[22m\u001b[39m to `~/MultiModeGKP/LLLExamples/Manifest.toml`\n"
     ]
    }
   ],
   "source": [
    "] add BlockDiagonals"
   ]
  },
  {
   "cell_type": "code",
   "execution_count": 5,
   "id": "7b65cd22",
   "metadata": {},
   "outputs": [
    {
     "name": "stdout",
     "output_type": "stream",
     "text": [
      "\u001b[32m\u001b[1m      Status\u001b[22m\u001b[39m `~/MultiModeGKP/LLLExamples/Project.toml`\n",
      " \u001b[90m [0a1fb500] \u001b[39mBlockDiagonals v0.1.34\n",
      " \u001b[90m [a78adfda] \u001b[39mLatticeAlgorithms v0.1.0 `git@ssh.gitlab.aws.dev:cqc/qat/latticealgorithms.jl.git#main`\n",
      " \u001b[90m [37e2e46d] \u001b[39mLinearAlgebra\n"
     ]
    }
   ],
   "source": [
    "] status"
   ]
  },
  {
   "cell_type": "code",
   "execution_count": 6,
   "id": "93ae79ea",
   "metadata": {},
   "outputs": [],
   "source": [
    "using LatticeAlgorithms\n",
    "using LinearAlgebra\n",
    "using BlockDiagonals"
   ]
  },
  {
   "cell_type": "code",
   "execution_count": 7,
   "id": "7af03267",
   "metadata": {},
   "outputs": [],
   "source": [
    "# using LatticeAlgorithms\n",
    "# using LinearAlgebra\n",
    "# using BlockDiagonals\n",
    "\n",
    "# M1 = Matrix(Diagonal([√2, √2, 1, 1])) ;\n",
    "# ω = [[0 -1]; [1 0]] ;\n",
    "# Ω = BlockDiagonal([ω, ω]) ;"
   ]
  },
  {
   "cell_type": "code",
   "execution_count": 8,
   "id": "3334b0e2",
   "metadata": {},
   "outputs": [
    {
     "data": {
      "text/plain": [
       "2×2 Matrix{Int64}:\n",
       "  0  1\n",
       " -1  0"
      ]
     },
     "execution_count": 8,
     "metadata": {},
     "output_type": "execute_result"
    }
   ],
   "source": [
    "ω = [0 1; \n",
    "    -1 0]"
   ]
  },
  {
   "cell_type": "code",
   "execution_count": 9,
   "id": "72559d48",
   "metadata": {},
   "outputs": [
    {
     "data": {
      "text/plain": [
       "4×4 BlockDiagonal{Int64, Matrix{Int64}}:\n",
       "  0  1   0  0\n",
       " -1  0   0  0\n",
       "  0  0   0  1\n",
       "  0  0  -1  0"
      ]
     },
     "execution_count": 9,
     "metadata": {},
     "output_type": "execute_result"
    }
   ],
   "source": [
    "Ω = BlockDiagonal([ω, ω])"
   ]
  },
  {
   "cell_type": "markdown",
   "id": "4431b704",
   "metadata": {},
   "source": [
    "## Square lattice"
   ]
  },
  {
   "cell_type": "code",
   "execution_count": 45,
   "id": "7b951c75",
   "metadata": {},
   "outputs": [
    {
     "data": {
      "text/plain": [
       "4×4 Matrix{Float64}:\n",
       " 1.41421  0.0      0.0  0.0\n",
       " 0.0      1.41421  0.0  0.0\n",
       " 0.0      0.0      1.0  0.0\n",
       " 0.0      0.0      0.0  1.0"
      ]
     },
     "execution_count": 45,
     "metadata": {},
     "output_type": "execute_result"
    }
   ],
   "source": [
    "M = Matrix(Diagonal([√2, √2, 1, 1]))"
   ]
  },
  {
   "cell_type": "code",
   "execution_count": 46,
   "id": "4c7dfd96",
   "metadata": {},
   "outputs": [
    {
     "data": {
      "text/plain": [
       "4×4 Matrix{Float64}:\n",
       "  0.0  2.0   0.0  0.0\n",
       " -2.0  0.0   0.0  0.0\n",
       "  0.0  0.0   0.0  1.0\n",
       "  0.0  0.0  -1.0  0.0"
      ]
     },
     "execution_count": 46,
     "metadata": {},
     "output_type": "execute_result"
    }
   ],
   "source": [
    "A = M * Ω * transpose(M)"
   ]
  },
  {
   "cell_type": "code",
   "execution_count": 47,
   "id": "3bd4926c",
   "metadata": {},
   "outputs": [],
   "source": [
    "R, Ap = canonical_form_of_anti_symmetric_matrix(A);"
   ]
  },
  {
   "cell_type": "code",
   "execution_count": 48,
   "id": "7d764d60",
   "metadata": {},
   "outputs": [
    {
     "data": {
      "text/plain": [
       "4×4 Matrix{Int64}:\n",
       " 1  0  0  0\n",
       " 0  1  0  0\n",
       " 0  0  1  0\n",
       " 0  0  0  1"
      ]
     },
     "execution_count": 48,
     "metadata": {},
     "output_type": "execute_result"
    }
   ],
   "source": [
    "R"
   ]
  },
  {
   "cell_type": "code",
   "execution_count": 49,
   "id": "865afcdb",
   "metadata": {},
   "outputs": [
    {
     "data": {
      "text/plain": [
       "4×4 Matrix{Int64}:\n",
       "  0  2   0  0\n",
       " -2  0   0  0\n",
       "  0  0   0  1\n",
       "  0  0  -1  0"
      ]
     },
     "execution_count": 49,
     "metadata": {},
     "output_type": "execute_result"
    }
   ],
   "source": [
    "Ap"
   ]
  },
  {
   "cell_type": "code",
   "execution_count": 50,
   "id": "c6fe3a2c",
   "metadata": {},
   "outputs": [
    {
     "data": {
      "text/plain": [
       "4×4 Matrix{Float64}:\n",
       " 1.41421  0.0      0.0  0.0\n",
       " 0.0      1.41421  0.0  0.0\n",
       " 0.0      0.0      1.0  0.0\n",
       " 0.0      0.0      0.0  1.0"
      ]
     },
     "execution_count": 50,
     "metadata": {},
     "output_type": "execute_result"
    }
   ],
   "source": [
    "Mp = R * M"
   ]
  },
  {
   "cell_type": "code",
   "execution_count": 51,
   "id": "04e7e366",
   "metadata": {},
   "outputs": [
    {
     "data": {
      "text/plain": [
       "4×4 Matrix{Float64}:\n",
       " 0.707107  0.0       0.0  0.0\n",
       " 0.0       0.707107  0.0  0.0\n",
       " 0.0       0.0       1.0  0.0\n",
       " 0.0       0.0       0.0  1.0"
      ]
     },
     "execution_count": 51,
     "metadata": {},
     "output_type": "execute_result"
    }
   ],
   "source": [
    "M_perp = Ω * inv(Ap) * Mp"
   ]
  },
  {
   "cell_type": "code",
   "execution_count": 52,
   "id": "1ad98c4d",
   "metadata": {},
   "outputs": [],
   "source": [
    "B, Q, R, T = LLL(M_perp);"
   ]
  },
  {
   "cell_type": "code",
   "execution_count": 53,
   "id": "12fcdc39",
   "metadata": {},
   "outputs": [
    {
     "data": {
      "text/plain": [
       "4×4 Matrix{Float64}:\n",
       " 0.707107  0.0       0.0  0.0\n",
       " 0.0       0.707107  0.0  0.0\n",
       " 0.0       0.0       1.0  0.0\n",
       " 0.0       0.0       0.0  1.0"
      ]
     },
     "execution_count": 53,
     "metadata": {},
     "output_type": "execute_result"
    }
   ],
   "source": [
    "inv(T) * B"
   ]
  },
  {
   "cell_type": "code",
   "execution_count": 54,
   "id": "60730016",
   "metadata": {},
   "outputs": [
    {
     "data": {
      "text/plain": [
       "4×4 Matrix{Float64}:\n",
       " 0.0  0.0  0.0  0.0\n",
       " 0.0  0.0  0.0  0.0\n",
       " 0.0  0.0  0.0  0.0\n",
       " 0.0  0.0  0.0  0.0"
      ]
     },
     "execution_count": 54,
     "metadata": {},
     "output_type": "execute_result"
    }
   ],
   "source": [
    "B - transpose(R) * transpose(Q)"
   ]
  },
  {
   "cell_type": "code",
   "execution_count": 55,
   "id": "8bd6e48a",
   "metadata": {
    "scrolled": true
   },
   "outputs": [
    {
     "data": {
      "text/plain": [
       "4×4 transpose(::Matrix{Float64}) with eltype Float64:\n",
       " 0.707107  0.0       0.0  0.0\n",
       " 0.0       0.707107  0.0  0.0\n",
       " 0.0       0.0       1.0  0.0\n",
       " 0.0       0.0       0.0  1.0"
      ]
     },
     "execution_count": 55,
     "metadata": {},
     "output_type": "execute_result"
    }
   ],
   "source": [
    "transpose(R) "
   ]
  },
  {
   "cell_type": "markdown",
   "id": "f497cb3d",
   "metadata": {},
   "source": [
    "## Tesseract"
   ]
  },
  {
   "cell_type": "code",
   "execution_count": 56,
   "id": "93c0b059",
   "metadata": {
    "scrolled": true
   },
   "outputs": [
    {
     "data": {
      "text/plain": [
       "4×4 Matrix{Float64}:\n",
       " 1.18921  0.0       0.0       0.0\n",
       " 0.0      0.840896  0.0       0.840896\n",
       " 0.0      0.0       1.18921   0.0\n",
       " 0.0      0.840896  0.0      -0.840896"
      ]
     },
     "execution_count": 56,
     "metadata": {},
     "output_type": "execute_result"
    }
   ],
   "source": [
    "M = 2^(1/4) * [\n",
    "    1 0 0 0; \n",
    "    0 1/√2 0 1/√2; \n",
    "    0 0 1 0; \n",
    "    0 1/√2 0 -1/√2\n",
    "]"
   ]
  },
  {
   "cell_type": "code",
   "execution_count": 57,
   "id": "37e4c0c9",
   "metadata": {},
   "outputs": [
    {
     "data": {
      "text/plain": [
       "4×4 Matrix{Float64}:\n",
       "  0.0  1.0   0.0   1.0\n",
       " -1.0  0.0  -1.0   0.0\n",
       "  0.0  1.0   0.0  -1.0\n",
       " -1.0  0.0   1.0   0.0"
      ]
     },
     "execution_count": 57,
     "metadata": {},
     "output_type": "execute_result"
    }
   ],
   "source": [
    "A = M * Ω * transpose(M)"
   ]
  },
  {
   "cell_type": "code",
   "execution_count": 58,
   "id": "141c81e9",
   "metadata": {},
   "outputs": [],
   "source": [
    "R, Ap = canonical_form_of_anti_symmetric_matrix(A);"
   ]
  },
  {
   "cell_type": "code",
   "execution_count": 59,
   "id": "85f54374",
   "metadata": {},
   "outputs": [
    {
     "data": {
      "text/plain": [
       "4×4 Matrix{Int64}:\n",
       " 1  0  1  0\n",
       " 0  1  0  1\n",
       " 0  0  0  1\n",
       " 0  0  1  0"
      ]
     },
     "execution_count": 59,
     "metadata": {},
     "output_type": "execute_result"
    }
   ],
   "source": [
    "R"
   ]
  },
  {
   "cell_type": "code",
   "execution_count": 60,
   "id": "a1de202b",
   "metadata": {
    "scrolled": true
   },
   "outputs": [
    {
     "data": {
      "text/plain": [
       "4×4 Matrix{Int64}:\n",
       "  0  2   0  0\n",
       " -2  0   0  0\n",
       "  0  0   0  1\n",
       "  0  0  -1  0"
      ]
     },
     "execution_count": 60,
     "metadata": {},
     "output_type": "execute_result"
    }
   ],
   "source": [
    "Ap"
   ]
  },
  {
   "cell_type": "code",
   "execution_count": 61,
   "id": "a4c00df2",
   "metadata": {},
   "outputs": [
    {
     "data": {
      "text/plain": [
       "4×4 Matrix{Float64}:\n",
       " 1.18921  0.0       1.18921   0.0\n",
       " 0.0      1.68179   0.0       0.0\n",
       " 0.0      0.840896  0.0      -0.840896\n",
       " 0.0      0.0       1.18921   0.0"
      ]
     },
     "execution_count": 61,
     "metadata": {},
     "output_type": "execute_result"
    }
   ],
   "source": [
    "Mp = R * M"
   ]
  },
  {
   "cell_type": "code",
   "execution_count": 62,
   "id": "2630e4e6",
   "metadata": {},
   "outputs": [
    {
     "data": {
      "text/plain": [
       "4×4 Matrix{Float64}:\n",
       " 0.594604  0.0       0.594604   0.0\n",
       " 0.0       0.840896  0.0        0.0\n",
       " 0.0       0.840896  0.0       -0.840896\n",
       " 0.0       0.0       1.18921    0.0"
      ]
     },
     "execution_count": 62,
     "metadata": {},
     "output_type": "execute_result"
    }
   ],
   "source": [
    "M_perp = Ω * inv(Ap) * Mp"
   ]
  },
  {
   "cell_type": "code",
   "execution_count": 63,
   "id": "889bcfb2",
   "metadata": {},
   "outputs": [],
   "source": [
    "B, Q, R, T = LLL(M_perp);"
   ]
  },
  {
   "cell_type": "code",
   "execution_count": 64,
   "id": "b9b82314",
   "metadata": {},
   "outputs": [
    {
     "data": {
      "text/plain": [
       "4×4 Matrix{Float64}:\n",
       " 0.594604  0.0       0.594604   0.0\n",
       " 0.0       0.840896  0.0        0.0\n",
       " 0.0       0.840896  0.0       -0.840896\n",
       " 0.0       0.0       1.18921    0.0"
      ]
     },
     "execution_count": 64,
     "metadata": {},
     "output_type": "execute_result"
    }
   ],
   "source": [
    "inv(T) * B"
   ]
  },
  {
   "cell_type": "code",
   "execution_count": 65,
   "id": "3cbc86a4",
   "metadata": {},
   "outputs": [
    {
     "data": {
      "text/plain": [
       "4×4 Matrix{Float64}:\n",
       " -2.22045e-16  0.0  0.0  0.0\n",
       "  0.0          0.0  0.0  0.0\n",
       "  0.0          0.0  0.0  0.0\n",
       "  1.11022e-16  0.0  0.0  0.0"
      ]
     },
     "execution_count": 65,
     "metadata": {},
     "output_type": "execute_result"
    }
   ],
   "source": [
    "B - transpose(R) * transpose(Q)"
   ]
  },
  {
   "cell_type": "code",
   "execution_count": 66,
   "id": "09ca4331",
   "metadata": {
    "scrolled": true
   },
   "outputs": [
    {
     "data": {
      "text/plain": [
       "4×4 transpose(::Matrix{Float64}) with eltype Float64:\n",
       " -0.840896     0.0        0.0       0.0\n",
       "  0.0          0.840896   0.0       0.0\n",
       "  0.0          0.0       -0.840896  0.0\n",
       "  1.11022e-16  0.0        0.0       0.840896"
      ]
     },
     "execution_count": 66,
     "metadata": {},
     "output_type": "execute_result"
    }
   ],
   "source": [
    "transpose(R) "
   ]
  },
  {
   "cell_type": "markdown",
   "id": "dc8e8d2d",
   "metadata": {},
   "source": [
    "## D4 lattice"
   ]
  },
  {
   "cell_type": "code",
   "execution_count": 67,
   "id": "fd0d943d",
   "metadata": {
    "scrolled": true
   },
   "outputs": [
    {
     "data": {
      "text/plain": [
       "4×4 Matrix{Int64}:\n",
       " 1  0   1   0\n",
       " 1  0   0  -1\n",
       " 0  1  -1   0\n",
       " 1  0   0   1"
      ]
     },
     "execution_count": 67,
     "metadata": {},
     "output_type": "execute_result"
    }
   ],
   "source": [
    "M = [\n",
    "    1 0 1 0; \n",
    "    1 0 0 -1; \n",
    "    0 1 -1 0; \n",
    "    1 0 0 1\n",
    "]"
   ]
  },
  {
   "cell_type": "code",
   "execution_count": 68,
   "id": "711a9350",
   "metadata": {
    "scrolled": true
   },
   "outputs": [
    {
     "data": {
      "text/plain": [
       "4×4 Matrix{Int64}:\n",
       "  0  -1  1   1\n",
       "  1   0  0   0\n",
       " -1   0  0  -2\n",
       " -1   0  2   0"
      ]
     },
     "execution_count": 68,
     "metadata": {},
     "output_type": "execute_result"
    }
   ],
   "source": [
    "A = M * Ω * transpose(M)"
   ]
  },
  {
   "cell_type": "code",
   "execution_count": 69,
   "id": "384793de",
   "metadata": {},
   "outputs": [],
   "source": [
    "R, Ap = canonical_form_of_anti_symmetric_matrix(A);"
   ]
  },
  {
   "cell_type": "code",
   "execution_count": 70,
   "id": "2c82c037",
   "metadata": {},
   "outputs": [
    {
     "data": {
      "text/plain": [
       "4×4 Matrix{Int64}:\n",
       "  0  1  0  1\n",
       "  2  1  1  0\n",
       "  0  0  0  1\n",
       " -1  0  0  0"
      ]
     },
     "execution_count": 70,
     "metadata": {},
     "output_type": "execute_result"
    }
   ],
   "source": [
    "R"
   ]
  },
  {
   "cell_type": "code",
   "execution_count": 71,
   "id": "1d385b15",
   "metadata": {
    "scrolled": true
   },
   "outputs": [
    {
     "data": {
      "text/plain": [
       "4×4 Matrix{Int64}:\n",
       "  0  2   0  0\n",
       " -2  0   0  0\n",
       "  0  0   0  1\n",
       "  0  0  -1  0"
      ]
     },
     "execution_count": 71,
     "metadata": {},
     "output_type": "execute_result"
    }
   ],
   "source": [
    "Ap"
   ]
  },
  {
   "cell_type": "code",
   "execution_count": 72,
   "id": "edb435b7",
   "metadata": {},
   "outputs": [
    {
     "data": {
      "text/plain": [
       "4×4 Matrix{Int64}:\n",
       "  2  0   0   0\n",
       "  3  1   1  -1\n",
       "  1  0   0   1\n",
       " -1  0  -1   0"
      ]
     },
     "execution_count": 72,
     "metadata": {},
     "output_type": "execute_result"
    }
   ],
   "source": [
    "Mp = R * M"
   ]
  },
  {
   "cell_type": "code",
   "execution_count": 73,
   "id": "1e4b60b0",
   "metadata": {},
   "outputs": [
    {
     "data": {
      "text/plain": [
       "4×4 Matrix{Int64}:\n",
       "  2  0   0   0\n",
       "  3  1   1  -1\n",
       "  1  0   0   1\n",
       " -1  0  -1   0"
      ]
     },
     "execution_count": 73,
     "metadata": {},
     "output_type": "execute_result"
    }
   ],
   "source": [
    "Mp = R * M"
   ]
  },
  {
   "cell_type": "code",
   "execution_count": 74,
   "id": "1b1452e9",
   "metadata": {},
   "outputs": [
    {
     "data": {
      "text/plain": [
       "4×4 Matrix{Float64}:\n",
       "  1.0  0.0   0.0   0.0\n",
       "  1.5  0.5   0.5  -0.5\n",
       "  1.0  0.0   0.0   1.0\n",
       " -1.0  0.0  -1.0   0.0"
      ]
     },
     "execution_count": 74,
     "metadata": {},
     "output_type": "execute_result"
    }
   ],
   "source": [
    "M_perp = Ω * inv(Ap) * Mp"
   ]
  },
  {
   "cell_type": "code",
   "execution_count": 75,
   "id": "e9d95ef5",
   "metadata": {},
   "outputs": [],
   "source": [
    "B, Q, R, T = LLL(M_perp);"
   ]
  },
  {
   "cell_type": "code",
   "execution_count": 76,
   "id": "521b9cfc",
   "metadata": {},
   "outputs": [
    {
     "data": {
      "text/plain": [
       "4×4 Matrix{Float64}:\n",
       "  1.0  0.0   0.0   0.0\n",
       "  1.5  0.5   0.5  -0.5\n",
       "  1.0  0.0   0.0   1.0\n",
       " -1.0  0.0  -1.0   0.0"
      ]
     },
     "execution_count": 76,
     "metadata": {},
     "output_type": "execute_result"
    }
   ],
   "source": [
    "inv(T) * B"
   ]
  },
  {
   "cell_type": "code",
   "execution_count": 77,
   "id": "dbf5ed23",
   "metadata": {},
   "outputs": [
    {
     "data": {
      "text/plain": [
       "4×4 Matrix{Float64}:\n",
       " 0.0   0.0          0.0           0.0\n",
       " 0.0   5.55112e-17  5.55112e-17  -5.55112e-17\n",
       " 0.0   0.0          0.0           0.0\n",
       " 0.0  -1.11022e-16  3.33067e-16   3.33067e-16"
      ]
     },
     "execution_count": 77,
     "metadata": {},
     "output_type": "execute_result"
    }
   ],
   "source": [
    "B - transpose(R) * transpose(Q)"
   ]
  },
  {
   "cell_type": "code",
   "execution_count": 78,
   "id": "18e1bb45",
   "metadata": {
    "scrolled": true
   },
   "outputs": [
    {
     "data": {
      "text/plain": [
       "4×4 transpose(::Matrix{Float64}) with eltype Float64:\n",
       "  1.0   0.0        0.0       0.0\n",
       " -0.5  -0.866025   0.0       0.0\n",
       "  0.5  -0.288675  -0.816497  0.0\n",
       " -0.5   0.288675  -0.408248  0.707107"
      ]
     },
     "execution_count": 78,
     "metadata": {},
     "output_type": "execute_result"
    }
   ],
   "source": [
    "transpose(R) "
   ]
  },
  {
   "cell_type": "code",
   "execution_count": null,
   "id": "f6546d7a",
   "metadata": {},
   "outputs": [],
   "source": []
  }
 ],
 "metadata": {
  "kernelspec": {
   "display_name": "Julia 1.7.3",
   "language": "julia",
   "name": "julia-1.7"
  },
  "language_info": {
   "file_extension": ".jl",
   "mimetype": "application/julia",
   "name": "julia",
   "version": "1.7.3"
  }
 },
 "nbformat": 4,
 "nbformat_minor": 5
}
